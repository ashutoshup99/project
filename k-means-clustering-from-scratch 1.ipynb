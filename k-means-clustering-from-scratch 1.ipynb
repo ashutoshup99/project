{
 "cells": [
  {
   "cell_type": "markdown",
   "metadata": {},
   "source": [
    "4.1 Importing libraries and Dataset"
   ]
  },
  {
   "cell_type": "code",
   "execution_count": 1,
   "metadata": {
    "_cell_guid": "b1076dfc-b9ad-4769-8c92-a6c4dae69d19",
    "_uuid": "8f2839f25d086af736a60e9eeb907d3b93b6e0e5"
   },
   "outputs": [
    {
     "name": "stdout",
     "output_type": "stream",
     "text": [
      "['emails.csv']\n"
     ]
    }
   ],
   "source": [
    "#Importing all neccessary libraires and modules\n",
    "import numpy as np # linear algebra\n",
    "import pandas as pd # data processing, CSV file I/O (e.g. pd.read_csv)\n",
    "from sklearn.cluster import KMeans \n",
    "from sklearn.feature_extraction.text import TfidfVectorizer\n",
    "from sklearn.decomposition import PCA\n",
    "from sklearn.preprocessing import normalize\n",
    "from sklearn.metrics import pairwise_distances\n",
    "from nltk.tokenize import word_tokenize\n",
    "from nltk.stem.porter import PorterStemmer\n",
    "from nltk.corpus import stopwords\n",
    "from bs4 import BeautifulSoup\n",
    "from scipy.stats import multivariate_normal as mvn\n",
    "import nltk\n",
    "import os\n",
    "import random\n",
    "import string\n",
    "\n",
    "import matplotlib.pyplot as plt\n",
    "%matplotlib inline\n",
    "plt.style.use('fivethirtyeight')\n",
    "import os, sys, email,re\n",
    "print(os.listdir(\"../input\"))\n",
    "\n"
   ]
  },
  {
   "cell_type": "markdown",
   "metadata": {},
   "source": []
  },
  {
   "cell_type": "code",
   "execution_count": 2,
   "metadata": {
    "_uuid": "7e378415a2eea9de2c91cb8d8d0cd5cc2f1ed7db"
   },
   "outputs": [
    {
     "data": {
      "text/plain": [
       "(35000, 2)"
      ]
     },
     "execution_count": 2,
     "metadata": {},
     "output_type": "execute_result"
    }
   ],
   "source": [
    "#reading data\n",
    "df = pd.read_csv('../input/emails.csv',nrows = 35000)\n",
    "df.shape"
   ]
  },
  {
   "cell_type": "markdown",
   "metadata": {
    "_uuid": "0b5c69f4a63625167cf53f569cc4ed20b56ebff2"
   },
   "source": [
    "4.2 Data Analysis"
   ]
  },
  {
   "cell_type": "code",
   "execution_count": 3,
   "metadata": {
    "_uuid": "aa4a64c122f30a8fdda1173e0f067ba034e6bd99"
   },
   "outputs": [],
   "source": [
    "# create list of email objects\n",
    "emails = list(map(email.parser.Parser().parsestr,df['message']))\n",
    "\n",
    "# extract headings such as subject, from, to etc..\n",
    "headings  = emails[0].keys()\n",
    "\n",
    "# Goes through each email and grabs info for each key\n",
    "# doc['From'] grabs who sent email in all emails\n",
    "for key in headings:\n",
    "    df[key] = [doc[key] for doc in emails]"
   ]
  },
  {
   "cell_type": "code",
   "execution_count": 4,
   "metadata": {},
   "outputs": [
    {
     "data": {
      "text/plain": [
       "[<email.message.Message at 0x16c366a0f98>,\n",
       " <email.message.Message at 0x16c366a0eb8>,\n",
       " <email.message.Message at 0x16c30641e80>,\n",
       " <email.message.Message at 0x16c30641128>,\n",
       " <email.message.Message at 0x16c366a0c88>,\n",
       " <email.message.Message at 0x16c3d521358>,\n",
       " <email.message.Message at 0x16c366a0e80>,\n",
       " <email.message.Message at 0x16c3d521390>,\n",
       " <email.message.Message at 0x16c3d521898>,\n",
       " <email.message.Message at 0x16c3d521f28>,\n",
       " <email.message.Message at 0x16c3d521b38>,\n",
       " <email.message.Message at 0x16c3d526358>,\n",
       " <email.message.Message at 0x16c3d526390>,\n",
       " <email.message.Message at 0x16c3d526630>,\n",
       " <email.message.Message at 0x16c3d5268d0>,\n",
       " <email.message.Message at 0x16c3d526b70>,\n",
       " <email.message.Message at 0x16c3d525198>,\n",
       " <email.message.Message at 0x16c3d526e10>,\n",
       " <email.message.Message at 0x16c366a0c50>,\n",
       " <email.message.Message at 0x16c3d5250f0>,\n",
       " <email.message.Message at 0x16c3d525898>,\n",
       " <email.message.Message at 0x16c3d525b38>,\n",
       " <email.message.Message at 0x16c3d525dd8>,\n",
       " <email.message.Message at 0x16c3d528438>,\n",
       " <email.message.Message at 0x16c3d528358>,\n",
       " <email.message.Message at 0x16c3d5280b8>,\n",
       " <email.message.Message at 0x16c3d528390>,\n",
       " <email.message.Message at 0x16c3d528eb8>,\n",
       " <email.message.Message at 0x16c3d528b38>,\n",
       " <email.message.Message at 0x16c366a0e10>,\n",
       " <email.message.Message at 0x16c3d535358>,\n",
       " <email.message.Message at 0x16c3d535978>,\n",
       " <email.message.Message at 0x16c3d535d68>,\n",
       " <email.message.Message at 0x16c3d535898>,\n",
       " <email.message.Message at 0x16c3d5358d0>,\n",
       " <email.message.Message at 0x16c366a06a0>,\n",
       " <email.message.Message at 0x16c3d537630>,\n",
       " <email.message.Message at 0x16c3d537668>,\n",
       " <email.message.Message at 0x16c3d537908>,\n",
       " <email.message.Message at 0x16c3d537ba8>,\n",
       " <email.message.Message at 0x16c3d5382b0>,\n",
       " <email.message.Message at 0x16c3d537e48>,\n",
       " <email.message.Message at 0x16c3d5386d8>,\n",
       " <email.message.Message at 0x16c3d538630>,\n",
       " <email.message.Message at 0x16c3d538668>,\n",
       " <email.message.Message at 0x16c3d538ba8>,\n",
       " <email.message.Message at 0x16c3d537390>,\n",
       " <email.message.Message at 0x16c3d53c3c8>,\n",
       " <email.message.Message at 0x16c3d53c390>,\n",
       " <email.message.Message at 0x16c3d5355f8>,\n",
       " <email.message.Message at 0x16c3d53cbe0>,\n",
       " <email.message.Message at 0x16c3d53c400>,\n",
       " <email.message.Message at 0x16c369800f0>,\n",
       " <email.message.Message at 0x16c3d538e48>,\n",
       " <email.message.Message at 0x16c36980128>,\n",
       " <email.message.Message at 0x16c36980748>,\n",
       " <email.message.Message at 0x16c369804a8>,\n",
       " <email.message.Message at 0x16c36980780>,\n",
       " <email.message.Message at 0x16c36980f28>,\n",
       " <email.message.Message at 0x16c36980f60>,\n",
       " <email.message.Message at 0x16c36985240>,\n",
       " <email.message.Message at 0x16c36985780>,\n",
       " <email.message.Message at 0x16c369854e0>,\n",
       " <email.message.Message at 0x16c36985e48>,\n",
       " <email.message.Message at 0x16c36985c88>,\n",
       " <email.message.Message at 0x16c36980c88>,\n",
       " <email.message.Message at 0x16c369857b8>,\n",
       " <email.message.Message at 0x16c3698b8d0>,\n",
       " <email.message.Message at 0x16c3698b898>,\n",
       " <email.message.Message at 0x16c3698b518>,\n",
       " <email.message.Message at 0x16c3698bfd0>,\n",
       " <email.message.Message at 0x16c3d53cb70>,\n",
       " <email.message.Message at 0x16c3698e550>,\n",
       " <email.message.Message at 0x16c3698e048>,\n",
       " <email.message.Message at 0x16c3698eb70>,\n",
       " <email.message.Message at 0x16c3698ea58>,\n",
       " <email.message.Message at 0x16c3698e588>,\n",
       " <email.message.Message at 0x16c36992278>,\n",
       " <email.message.Message at 0x16c369922b0>,\n",
       " <email.message.Message at 0x16c36992550>,\n",
       " <email.message.Message at 0x16c3698b7b8>,\n",
       " <email.message.Message at 0x16c36992cf8>,\n",
       " <email.message.Message at 0x16c36997048>,\n",
       " <email.message.Message at 0x16c36992fd0>,\n",
       " <email.message.Message at 0x16c36992d30>,\n",
       " <email.message.Message at 0x16c3698ea90>,\n",
       " <email.message.Message at 0x16c369977b8>,\n",
       " <email.message.Message at 0x16c36997d68>,\n",
       " <email.message.Message at 0x16c369927f0>,\n",
       " <email.message.Message at 0x16c3699d320>,\n",
       " <email.message.Message at 0x16c36997da0>,\n",
       " <email.message.Message at 0x16c3699d860>,\n",
       " <email.message.Message at 0x16c3699d828>,\n",
       " <email.message.Message at 0x16c3699d898>,\n",
       " <email.message.Message at 0x16c369a0080>,\n",
       " <email.message.Message at 0x16c369a0358>,\n",
       " <email.message.Message at 0x16c3699d080>,\n",
       " <email.message.Message at 0x16c369a00b8>,\n",
       " <email.message.Message at 0x16c369a0860>,\n",
       " <email.message.Message at 0x16c36997a58>,\n",
       " <email.message.Message at 0x16c3699dda0>,\n",
       " <email.message.Message at 0x16c369a6470>,\n",
       " <email.message.Message at 0x16c369a6048>,\n",
       " <email.message.Message at 0x16c369a6320>,\n",
       " <email.message.Message at 0x16c369a6898>,\n",
       " <email.message.Message at 0x16c369a6e10>,\n",
       " <email.message.Message at 0x16c369a9400>,\n",
       " <email.message.Message at 0x16c369a6dd8>,\n",
       " <email.message.Message at 0x16c369a93c8>,\n",
       " <email.message.Message at 0x16c369a6b38>,\n",
       " <email.message.Message at 0x16c369a9b38>,\n",
       " <email.message.Message at 0x16c369a9f28>,\n",
       " <email.message.Message at 0x16c369a9e10>,\n",
       " <email.message.Message at 0x16c369a9358>,\n",
       " <email.message.Message at 0x16c369af6d8>,\n",
       " <email.message.Message at 0x16c369af5f8>,\n",
       " <email.message.Message at 0x16c369af630>,\n",
       " <email.message.Message at 0x16c369a6e48>,\n",
       " <email.message.Message at 0x16c369b4080>,\n",
       " <email.message.Message at 0x16c369a9b70>,\n",
       " <email.message.Message at 0x16c369b40b8>,\n",
       " <email.message.Message at 0x16c369b4860>,\n",
       " <email.message.Message at 0x16c369b4898>,\n",
       " <email.message.Message at 0x16c369b4e10>,\n",
       " <email.message.Message at 0x16c369b45c0>,\n",
       " <email.message.Message at 0x16c369bb320>,\n",
       " <email.message.Message at 0x16c369bb358>,\n",
       " <email.message.Message at 0x16c369b4b38>,\n",
       " <email.message.Message at 0x16c369bb5f8>,\n",
       " <email.message.Message at 0x16c369bbb00>,\n",
       " <email.message.Message at 0x16c369be128>,\n",
       " <email.message.Message at 0x16c369afb70>,\n",
       " <email.message.Message at 0x16c369be748>,\n",
       " <email.message.Message at 0x16c369be6d8>,\n",
       " <email.message.Message at 0x16c369be630>,\n",
       " <email.message.Message at 0x16c369bee48>,\n",
       " <email.message.Message at 0x16c369c34e0>,\n",
       " <email.message.Message at 0x16c369c31d0>,\n",
       " <email.message.Message at 0x16c369c3198>,\n",
       " <email.message.Message at 0x16c369bee80>,\n",
       " <email.message.Message at 0x16c369be0f0>,\n",
       " <email.message.Message at 0x16c369c3b70>,\n",
       " <email.message.Message at 0x16c369c3e10>,\n",
       " <email.message.Message at 0x16c369c90f0>,\n",
       " <email.message.Message at 0x16c369c9748>,\n",
       " <email.message.Message at 0x16c369c96a0>,\n",
       " <email.message.Message at 0x16c369c96d8>,\n",
       " <email.message.Message at 0x16c369c9c18>,\n",
       " <email.message.Message at 0x16c369c9eb8>,\n",
       " <email.message.Message at 0x16c369cd400>,\n",
       " <email.message.Message at 0x16c369cd438>,\n",
       " <email.message.Message at 0x16c369cd6d8>,\n",
       " <email.message.Message at 0x16c369c9668>,\n",
       " <email.message.Message at 0x16c369cdeb8>,\n",
       " <email.message.Message at 0x16c369cdef0>,\n",
       " <email.message.Message at 0x16c369d2438>,\n",
       " <email.message.Message at 0x16c369d2748>,\n",
       " <email.message.Message at 0x16c369be668>,\n",
       " <email.message.Message at 0x16c369d2c88>,\n",
       " <email.message.Message at 0x16c369d2470>,\n",
       " <email.message.Message at 0x16c369d2c18>,\n",
       " <email.message.Message at 0x16c369d94e0>,\n",
       " <email.message.Message at 0x16c369d97f0>,\n",
       " <email.message.Message at 0x16c369d9ac8>,\n",
       " <email.message.Message at 0x16c369d9518>,\n",
       " <email.message.Message at 0x16c369d97b8>,\n",
       " <email.message.Message at 0x16c369d9f98>,\n",
       " <email.message.Message at 0x16c369dd5c0>,\n",
       " <email.message.Message at 0x16c369d94a8>,\n",
       " <email.message.Message at 0x16c369ddb00>,\n",
       " <email.message.Message at 0x16c369ddb38>,\n",
       " <email.message.Message at 0x16c369dd4e0>,\n",
       " <email.message.Message at 0x16c369dda20>,\n",
       " <email.message.Message at 0x16c369e2588>,\n",
       " <email.message.Message at 0x16c369e25c0>,\n",
       " <email.message.Message at 0x16c369e2550>,\n",
       " <email.message.Message at 0x16c369e2860>,\n",
       " <email.message.Message at 0x16c369e5160>,\n",
       " <email.message.Message at 0x16c369cd9b0>,\n",
       " <email.message.Message at 0x16c369e2240>,\n",
       " <email.message.Message at 0x16c369e57f0>,\n",
       " <email.message.Message at 0x16c369e5828>,\n",
       " <email.message.Message at 0x16c369e5ac8>,\n",
       " <email.message.Message at 0x16c369ec048>,\n",
       " <email.message.Message at 0x16c369e2d68>,\n",
       " <email.message.Message at 0x16c369ec588>,\n",
       " <email.message.Message at 0x16c369ec908>,\n",
       " <email.message.Message at 0x16c369ec080>,\n",
       " <email.message.Message at 0x16c369e5d68>,\n",
       " <email.message.Message at 0x16c369ecf98>,\n",
       " <email.message.Message at 0x16c369f0358>,\n",
       " <email.message.Message at 0x16c369ecfd0>,\n",
       " <email.message.Message at 0x16c369ec5c0>,\n",
       " <email.message.Message at 0x16c369f0828>,\n",
       " <email.message.Message at 0x16c369f0ac8>,\n",
       " <email.message.Message at 0x16c369f0d68>,\n",
       " <email.message.Message at 0x16c369f7320>,\n",
       " <email.message.Message at 0x16c369f7048>,\n",
       " <email.message.Message at 0x16c369f7358>,\n",
       " <email.message.Message at 0x16c369f7be0>,\n",
       " <email.message.Message at 0x16c369f7c18>,\n",
       " <email.message.Message at 0x16c369f7b38>,\n",
       " <email.message.Message at 0x16c369f7b00>,\n",
       " <email.message.Message at 0x16c369fa5c0>,\n",
       " <email.message.Message at 0x16c369fa5f8>,\n",
       " <email.message.Message at 0x16c369fab70>,\n",
       " <email.message.Message at 0x16c369fa898>,\n",
       " <email.message.Message at 0x16c369f7b70>,\n",
       " <email.message.Message at 0x16c369fe0b8>,\n",
       " <email.message.Message at 0x16c369fe358>,\n",
       " <email.message.Message at 0x16c369fe5f8>,\n",
       " <email.message.Message at 0x16c369feba8>,\n",
       " <email.message.Message at 0x16c369fab38>,\n",
       " <email.message.Message at 0x16c369f7860>,\n",
       " <email.message.Message at 0x16c36a052b0>,\n",
       " <email.message.Message at 0x16c36a052e8>,\n",
       " <email.message.Message at 0x16c36a05080>,\n",
       " <email.message.Message at 0x16c36a05b00>,\n",
       " <email.message.Message at 0x16c36a055c0>,\n",
       " <email.message.Message at 0x16c36a080f0>,\n",
       " <email.message.Message at 0x16c36a08470>,\n",
       " <email.message.Message at 0x16c36a05b38>,\n",
       " <email.message.Message at 0x16c36a089b0>,\n",
       " <email.message.Message at 0x16c36a08cc0>,\n",
       " <email.message.Message at 0x16c36a08908>,\n",
       " <email.message.Message at 0x16c36a080b8>,\n",
       " <email.message.Message at 0x16c36a08898>,\n",
       " <email.message.Message at 0x16c36a0e630>,\n",
       " <email.message.Message at 0x16c36a0e5f8>,\n",
       " <email.message.Message at 0x16c36a0e358>,\n",
       " <email.message.Message at 0x16c36a0e668>,\n",
       " <email.message.Message at 0x16c36a0edd8>,\n",
       " <email.message.Message at 0x16c36a130b8>,\n",
       " <email.message.Message at 0x16c36a13630>,\n",
       " <email.message.Message at 0x16c36a13390>,\n",
       " <email.message.Message at 0x16c36a13c18>,\n",
       " <email.message.Message at 0x16c36a13668>,\n",
       " <email.message.Message at 0x16c369fe898>,\n",
       " <email.message.Message at 0x16c36a193c8>,\n",
       " <email.message.Message at 0x16c36a19400>,\n",
       " <email.message.Message at 0x16c36a196d8>,\n",
       " <email.message.Message at 0x16c36a1f128>,\n",
       " <email.message.Message at 0x16c36a19c18>,\n",
       " <email.message.Message at 0x16c36a19128>,\n",
       " <email.message.Message at 0x16c36a19978>,\n",
       " <email.message.Message at 0x16c36a19c50>,\n",
       " <email.message.Message at 0x16c36a1f400>,\n",
       " <email.message.Message at 0x16c36a1fdd8>,\n",
       " <email.message.Message at 0x16c36a1fe10>,\n",
       " <email.message.Message at 0x16c36a1fbe0>,\n",
       " <email.message.Message at 0x16c36a1fc18>,\n",
       " <email.message.Message at 0x16c36a24400>,\n",
       " <email.message.Message at 0x16c36a24940>,\n",
       " <email.message.Message at 0x16c36a246a0>,\n",
       " <email.message.Message at 0x16c36a24978>,\n",
       " <email.message.Message at 0x16c36a29160>,\n",
       " <email.message.Message at 0x16c36a29438>,\n",
       " <email.message.Message at 0x16c36a29198>,\n",
       " <email.message.Message at 0x16c36a1f940>,\n",
       " <email.message.Message at 0x16c36a29470>,\n",
       " <email.message.Message at 0x16c36a29ef0>,\n",
       " <email.message.Message at 0x16c36a29e80>,\n",
       " <email.message.Message at 0x16c36a2b438>,\n",
       " <email.message.Message at 0x16c36a2b748>,\n",
       " <email.message.Message at 0x16c36a29be0>,\n",
       " <email.message.Message at 0x16c36a2b470>,\n",
       " <email.message.Message at 0x16c36a2bc50>,\n",
       " <email.message.Message at 0x16c36a29eb8>,\n",
       " <email.message.Message at 0x16c36a2bf60>,\n",
       " <email.message.Message at 0x16c36a31550>,\n",
       " <email.message.Message at 0x16c36a31ac8>,\n",
       " <email.message.Message at 0x16c36a31828>,\n",
       " <email.message.Message at 0x16c36a390f0>,\n",
       " <email.message.Message at 0x16c36a24e80>,\n",
       " <email.message.Message at 0x16c36a390b8>,\n",
       " <email.message.Message at 0x16c36a39908>,\n",
       " <email.message.Message at 0x16c36a39940>,\n",
       " <email.message.Message at 0x16c36a39630>,\n",
       " <email.message.Message at 0x16c36a3d0f0>,\n",
       " <email.message.Message at 0x16c36a31b00>,\n",
       " <email.message.Message at 0x16c36a3d630>,\n",
       " <email.message.Message at 0x16c36a3d128>,\n",
       " <email.message.Message at 0x16c36a3dcc0>,\n",
       " <email.message.Message at 0x16c36a3dbe0>,\n",
       " <email.message.Message at 0x16c36a3dc18>,\n",
       " <email.message.Message at 0x16c36a43198>,\n",
       " <email.message.Message at 0x16c36a3db70>,\n",
       " <email.message.Message at 0x16c36a43908>,\n",
       " <email.message.Message at 0x16c36a398d0>,\n",
       " <email.message.Message at 0x16c36a43e48>,\n",
       " <email.message.Message at 0x16c36a4a198>,\n",
       " <email.message.Message at 0x16c36a43e80>,\n",
       " <email.message.Message at 0x16c36a4a6a0>,\n",
       " <email.message.Message at 0x16c36a4a668>,\n",
       " <email.message.Message at 0x16c36a4a6d8>,\n",
       " <email.message.Message at 0x16c36a4abe0>,\n",
       " <email.message.Message at 0x16c36a4ae80>,\n",
       " <email.message.Message at 0x16c36a3dba8>,\n",
       " <email.message.Message at 0x16c36a4d6d8>,\n",
       " <email.message.Message at 0x16c36a4d710>,\n",
       " <email.message.Message at 0x16c36a4d160>,\n",
       " <email.message.Message at 0x16c36a4d9e8>,\n",
       " <email.message.Message at 0x16c36a52278>,\n",
       " <email.message.Message at 0x16c36a43940>,\n",
       " <email.message.Message at 0x16c36a527b8>,\n",
       " <email.message.Message at 0x16c36a52ac8>,\n",
       " <email.message.Message at 0x16c36a52780>,\n",
       " <email.message.Message at 0x16c36a52240>,\n",
       " <email.message.Message at 0x16c36a572e8>,\n",
       " <email.message.Message at 0x16c36a57278>,\n",
       " <email.message.Message at 0x16c36a527f0>,\n",
       " <email.message.Message at 0x16c36a572b0>,\n",
       " <email.message.Message at 0x16c36a57a58>,\n",
       " <email.message.Message at 0x16c36a57cf8>,\n",
       " <email.message.Message at 0x16c36a4def0>,\n",
       " <email.message.Message at 0x16c36a5c550>,\n",
       " <email.message.Message at 0x16c36a5c518>,\n",
       " <email.message.Message at 0x16c36a5c278>,\n",
       " <email.message.Message at 0x16c36a5c588>,\n",
       " <email.message.Message at 0x16c36a5ccf8>,\n",
       " <email.message.Message at 0x16c36a61278>,\n",
       " <email.message.Message at 0x16c36a57f98>,\n",
       " <email.message.Message at 0x16c36a612b0>,\n",
       " <email.message.Message at 0x16c36a61b38>,\n",
       " <email.message.Message at 0x16c36a617b8>,\n",
       " <email.message.Message at 0x16c36a61a58>,\n",
       " <email.message.Message at 0x16c36a65278>,\n",
       " <email.message.Message at 0x16c36a652b0>,\n",
       " <email.message.Message at 0x16c36a65550>,\n",
       " <email.message.Message at 0x16c36a657f0>,\n",
       " <email.message.Message at 0x16c36a5cf98>,\n",
       " <email.message.Message at 0x16c36a6c048>,\n",
       " <email.message.Message at 0x16c36a65fd0>,\n",
       " <email.message.Message at 0x16c36a65a90>,\n",
       " <email.message.Message at 0x16c36a6c7b8>,\n",
       " <email.message.Message at 0x16c36a6c7f0>,\n",
       " <email.message.Message at 0x16c36a61f98>,\n",
       " <email.message.Message at 0x16c36a6ca90>,\n",
       " <email.message.Message at 0x16c36a6f2b0>,\n",
       " <email.message.Message at 0x16c36a65f98>,\n",
       " <email.message.Message at 0x16c36a6f828>,\n",
       " <email.message.Message at 0x16c36a6f860>,\n",
       " <email.message.Message at 0x16c36a6f7f0>,\n",
       " <email.message.Message at 0x16c36a6fb00>,\n",
       " <email.message.Message at 0x16c36a6cf98>,\n",
       " <email.message.Message at 0x16c36a742b0>,\n",
       " <email.message.Message at 0x16c36a74550>,\n",
       " <email.message.Message at 0x16c36a747f0>,\n",
       " <email.message.Message at 0x16c36a74dd8>,\n",
       " <email.message.Message at 0x16c36a790f0>,\n",
       " <email.message.Message at 0x16c36a79128>,\n",
       " <email.message.Message at 0x16c36a793c8>,\n",
       " <email.message.Message at 0x16c36a74e10>,\n",
       " <email.message.Message at 0x16c36a74d68>,\n",
       " <email.message.Message at 0x16c36a79da0>,\n",
       " <email.message.Message at 0x16c36a79d68>,\n",
       " <email.message.Message at 0x16c36a74da0>,\n",
       " <email.message.Message at 0x16c36a7e588>,\n",
       " <email.message.Message at 0x16c36a7e5c0>,\n",
       " <email.message.Message at 0x16c36a7e860>,\n",
       " <email.message.Message at 0x16c36a7ee48>,\n",
       " <email.message.Message at 0x16c36a7eb00>,\n",
       " <email.message.Message at 0x16c36a853c8>,\n",
       " <email.message.Message at 0x16c36a79dd8>,\n",
       " <email.message.Message at 0x16c36a85828>,\n",
       " <email.message.Message at 0x16c36a7eda0>,\n",
       " <email.message.Message at 0x16c36a85860>,\n",
       " <email.message.Message at 0x16c36a89080>,\n",
       " <email.message.Message at 0x16c36a89048>,\n",
       " <email.message.Message at 0x16c36a74ac8>,\n",
       " <email.message.Message at 0x16c36a898d0>,\n",
       " <email.message.Message at 0x16c36a89ba8>,\n",
       " <email.message.Message at 0x16c36a89be0>,\n",
       " <email.message.Message at 0x16c36a890b8>,\n",
       " <email.message.Message at 0x16c36a85d68>,\n",
       " <email.message.Message at 0x16c36a8d390>,\n",
       " <email.message.Message at 0x16c36a8d630>,\n",
       " <email.message.Message at 0x16c36a8dba8>,\n",
       " <email.message.Message at 0x16c36a8db70>,\n",
       " <email.message.Message at 0x16c36a8dbe0>,\n",
       " <email.message.Message at 0x16c36a89908>,\n",
       " <email.message.Message at 0x16c36a92390>,\n",
       " <email.message.Message at 0x16c36a92630>,\n",
       " <email.message.Message at 0x16c36a92be0>,\n",
       " <email.message.Message at 0x16c36a92f60>,\n",
       " <email.message.Message at 0x16c36a92c18>,\n",
       " <email.message.Message at 0x16c36a96630>,\n",
       " <email.message.Message at 0x16c36a964e0>,\n",
       " <email.message.Message at 0x16c36a928d0>,\n",
       " <email.message.Message at 0x16c36a92eb8>,\n",
       " <email.message.Message at 0x16c36a9f0f0>,\n",
       " <email.message.Message at 0x16c36a96eb8>,\n",
       " <email.message.Message at 0x16c36a96e80>,\n",
       " <email.message.Message at 0x16c36a9f748>,\n",
       " <email.message.Message at 0x16c36a9f710>,\n",
       " <email.message.Message at 0x16c36a9f6d8>,\n",
       " <email.message.Message at 0x16c36a9fef0>,\n",
       " <email.message.Message at 0x16c36aa22e8>,\n",
       " <email.message.Message at 0x16c36a9ff28>,\n",
       " <email.message.Message at 0x16c36aa2710>,\n",
       " <email.message.Message at 0x16c36a96be0>,\n",
       " <email.message.Message at 0x16c36aa2748>,\n",
       " <email.message.Message at 0x16c36aa2c50>,\n",
       " <email.message.Message at 0x16c36aa71d0>,\n",
       " <email.message.Message at 0x16c36aa7208>,\n",
       " <email.message.Message at 0x16c36aa7908>,\n",
       " <email.message.Message at 0x16c36aa2ef0>,\n",
       " <email.message.Message at 0x16c36aa7c50>,\n",
       " <email.message.Message at 0x16c36aa7c88>,\n",
       " <email.message.Message at 0x16c36aac358>,\n",
       " <email.message.Message at 0x16c36a9f780>,\n",
       " <email.message.Message at 0x16c36aac7b8>,\n",
       " <email.message.Message at 0x16c36aacb70>,\n",
       " <email.message.Message at 0x16c36aac278>,\n",
       " <email.message.Message at 0x16c36aacf98>,\n",
       " <email.message.Message at 0x16c36aacfd0>,\n",
       " <email.message.Message at 0x16c36aac7f0>,\n",
       " <email.message.Message at 0x16c36ab1828>,\n",
       " <email.message.Message at 0x16c36ab1518>,\n",
       " <email.message.Message at 0x16c36ab1dd8>,\n",
       " <email.message.Message at 0x16c36ab17b8>,\n",
       " <email.message.Message at 0x16c36ab5358>,\n",
       " <email.message.Message at 0x16c36aa7f28>,\n",
       " <email.message.Message at 0x16c36ab5278>,\n",
       " <email.message.Message at 0x16c36ab57b8>,\n",
       " <email.message.Message at 0x16c36ab5cf8>,\n",
       " <email.message.Message at 0x16c36ab5d30>,\n",
       " <email.message.Message at 0x16c36ab5a58>,\n",
       " <email.message.Message at 0x16c36abb518>,\n",
       " <email.message.Message at 0x16c36abb828>,\n",
       " <email.message.Message at 0x16c36ab5fd0>,\n",
       " <email.message.Message at 0x16c36abb550>,\n",
       " <email.message.Message at 0x16c36abbcf8>,\n",
       " <email.message.Message at 0x16c36ac03c8>,\n",
       " <email.message.Message at 0x16c36ac0400>,\n",
       " <email.message.Message at 0x16c36abbf98>,\n",
       " <email.message.Message at 0x16c36ac02b0>,\n",
       " <email.message.Message at 0x16c36ab1cf8>,\n",
       " <email.message.Message at 0x16c36ac5080>,\n",
       " <email.message.Message at 0x16c36ac5908>,\n",
       " <email.message.Message at 0x16c36ac5048>,\n",
       " <email.message.Message at 0x16c36ac55f8>,\n",
       " <email.message.Message at 0x16c36ac50b8>,\n",
       " <email.message.Message at 0x16c36ac5630>,\n",
       " <email.message.Message at 0x16c36aca0f0>,\n",
       " <email.message.Message at 0x16c36aca470>,\n",
       " <email.message.Message at 0x16c36ac5e10>,\n",
       " <email.message.Message at 0x16c36aca940>,\n",
       " <email.message.Message at 0x16c36aca978>,\n",
       " <email.message.Message at 0x16c36acac18>,\n",
       " <email.message.Message at 0x16c36acaeb8>,\n",
       " <email.message.Message at 0x16c36ace470>,\n",
       " <email.message.Message at 0x16c36ace438>,\n",
       " <email.message.Message at 0x16c36ac0a90>,\n",
       " <email.message.Message at 0x16c36ace4a8>,\n",
       " <email.message.Message at 0x16c36aceeb8>,\n",
       " <email.message.Message at 0x16c36aceef0>,\n",
       " <email.message.Message at 0x16c36ad24e0>,\n",
       " <email.message.Message at 0x16c36ad2470>,\n",
       " <email.message.Message at 0x16c36ad21d0>,\n",
       " <email.message.Message at 0x16c36ad24a8>,\n",
       " <email.message.Message at 0x16c36aca128>,\n",
       " <email.message.Message at 0x16c36ad2c50>,\n",
       " <email.message.Message at 0x16c36ada438>,\n",
       " <email.message.Message at 0x16c36ada710>,\n",
       " <email.message.Message at 0x16c36adaa90>,\n",
       " <email.message.Message at 0x16c36ada198>,\n",
       " <email.message.Message at 0x16c36adaeb8>,\n",
       " <email.message.Message at 0x16c36acec18>,\n",
       " <email.message.Message at 0x16c36adf470>,\n",
       " <email.message.Message at 0x16c36adf748>,\n",
       " <email.message.Message at 0x16c36adfa90>,\n",
       " <email.message.Message at 0x16c36adf1d0>,\n",
       " <email.message.Message at 0x16c36adff60>,\n",
       " <email.message.Message at 0x16c36ae42e8>,\n",
       " <email.message.Message at 0x16c36adff28>,\n",
       " <email.message.Message at 0x16c36adf4a8>,\n",
       " <email.message.Message at 0x16c36adfef0>,\n",
       " <email.message.Message at 0x16c36ae4978>,\n",
       " <email.message.Message at 0x16c36ae4c18>,\n",
       " <email.message.Message at 0x16c36ae4eb8>,\n",
       " <email.message.Message at 0x16c36aeb518>,\n",
       " <email.message.Message at 0x16c36aeb438>,\n",
       " <email.message.Message at 0x16c36aee198>,\n",
       " <email.message.Message at 0x16c36aeb9b0>,\n",
       " <email.message.Message at 0x16c36aeb9e8>,\n",
       " <email.message.Message at 0x16c36aebf28>,\n",
       " <email.message.Message at 0x16c36aebc88>,\n",
       " <email.message.Message at 0x16c36aee7b8>,\n",
       " <email.message.Message at 0x16c36aee6a0>,\n",
       " <email.message.Message at 0x16c36aeec50>,\n",
       " <email.message.Message at 0x16c36aee6d8>,\n",
       " <email.message.Message at 0x16c36aeb470>,\n",
       " <email.message.Message at 0x16c36af64a8>,\n",
       " <email.message.Message at 0x16c36af67f0>,\n",
       " <email.message.Message at 0x16c36af6b00>,\n",
       " <email.message.Message at 0x16c36aeec18>,\n",
       " <email.message.Message at 0x16c36af6e80>,\n",
       " <email.message.Message at 0x16c36af9208>,\n",
       " <email.message.Message at 0x16c36af6400>,\n",
       " <email.message.Message at 0x16c36af9198>,\n",
       " <email.message.Message at 0x16c36af96d8>,\n",
       " <email.message.Message at 0x16c36aebf60>,\n",
       " <email.message.Message at 0x16c36af9f60>,\n",
       " <email.message.Message at 0x16c36af9ef0>,\n",
       " <email.message.Message at 0x16c36af9f28>,\n",
       " <email.message.Message at 0x16c36af6eb8>,\n",
       " <email.message.Message at 0x16c36b01710>,\n",
       " <email.message.Message at 0x16c36b01c88>,\n",
       " <email.message.Message at 0x16c36b01c50>,\n",
       " <email.message.Message at 0x16c36b06208>,\n",
       " <email.message.Message at 0x16c36b019b0>,\n",
       " <email.message.Message at 0x16c36b06240>,\n",
       " <email.message.Message at 0x16c36b01cc0>,\n",
       " <email.message.Message at 0x16c36b06748>,\n",
       " <email.message.Message at 0x16c36b0b048>,\n",
       " <email.message.Message at 0x16c36b06f60>,\n",
       " <email.message.Message at 0x16c36b06f98>,\n",
       " <email.message.Message at 0x16c36b06f28>,\n",
       " <email.message.Message at 0x16c36b0b9e8>,\n",
       " <email.message.Message at 0x16c36b0ba20>,\n",
       " <email.message.Message at 0x16c36b0b4e0>,\n",
       " <email.message.Message at 0x16c36b10208>,\n",
       " <email.message.Message at 0x16c36b0bcc0>,\n",
       " <email.message.Message at 0x16c36b10240>,\n",
       " <email.message.Message at 0x16c36b10a58>,\n",
       " <email.message.Message at 0x16c36b10a90>,\n",
       " <email.message.Message at 0x16c36b10d30>,\n",
       " <email.message.Message at 0x16c36b10fd0>,\n",
       " <email.message.Message at 0x16c36b06c88>,\n",
       " <email.message.Message at 0x16c36b14518>,\n",
       " <email.message.Message at 0x16c36b14b38>,\n",
       " <email.message.Message at 0x16c36b14a90>,\n",
       " <email.message.Message at 0x16c36b14a58>,\n",
       " <email.message.Message at 0x16c36b1a2b0>,\n",
       " <email.message.Message at 0x16c36b14ac8>,\n",
       " <email.message.Message at 0x16c36b1a7b8>,\n",
       " <email.message.Message at 0x16c36b1a7f0>,\n",
       " <email.message.Message at 0x16c36b1aa90>,\n",
       " <email.message.Message at 0x16c36b1ad30>,\n",
       " <email.message.Message at 0x16c36b147b8>,\n",
       " <email.message.Message at 0x16c36b1e588>,\n",
       " <email.message.Message at 0x16c36b1afd0>,\n",
       " <email.message.Message at 0x16c36b1ea90>,\n",
       " <email.message.Message at 0x16c36b1eac8>,\n",
       " <email.message.Message at 0x16c36b25080>,\n",
       " <email.message.Message at 0x16c36b107b8>,\n",
       " <email.message.Message at 0x16c36b25588>,\n",
       " <email.message.Message at 0x16c36b255c0>,\n",
       " <email.message.Message at 0x16c36b25048>,\n",
       " <email.message.Message at 0x16c36b25ef0>,\n",
       " <email.message.Message at 0x16c36b25860>,\n",
       " <email.message.Message at 0x16c36b29320>,\n",
       " <email.message.Message at 0x16c36b296a0>,\n",
       " <email.message.Message at 0x16c36b29358>,\n",
       " <email.message.Message at 0x16c36b29cc0>,\n",
       " <email.message.Message at 0x16c36b25da0>,\n",
       " <email.message.Message at 0x16c36b2c128>,\n",
       " <email.message.Message at 0x16c36b2c0f0>,\n",
       " <email.message.Message at 0x16c36b295f8>,\n",
       " <email.message.Message at 0x16c36b2c8d0>,\n",
       " <email.message.Message at 0x16c36b2c908>,\n",
       " <email.message.Message at 0x16c36b2cba8>,\n",
       " <email.message.Message at 0x16c36b35198>,\n",
       " <email.message.Message at 0x16c36b351d0>,\n",
       " <email.message.Message at 0x16c36b2ce48>,\n",
       " <email.message.Message at 0x16c36b35908>,\n",
       " <email.message.Message at 0x16c36b35c18>,\n",
       " <email.message.Message at 0x16c36b35be0>,\n",
       " <email.message.Message at 0x16c36b2c160>,\n",
       " <email.message.Message at 0x16c36b383c8>,\n",
       " <email.message.Message at 0x16c36b386d8>,\n",
       " <email.message.Message at 0x16c36b1ed68>,\n",
       " <email.message.Message at 0x16c36b38b70>,\n",
       " <email.message.Message at 0x16c36b38ba8>,\n",
       " <email.message.Message at 0x16c36b38390>,\n",
       " <email.message.Message at 0x16c36b38e48>,\n",
       " <email.message.Message at 0x16c36b3d630>,\n",
       " <email.message.Message at 0x16c36b3d390>,\n",
       " <email.message.Message at 0x16c36b3d668>,\n",
       " <email.message.Message at 0x16c36b3deb8>,\n",
       " <email.message.Message at 0x16c36b3de48>,\n",
       " <email.message.Message at 0x16c36b3de80>,\n",
       " <email.message.Message at 0x16c36b443c8>,\n",
       " <email.message.Message at 0x16c36b44668>,\n",
       " <email.message.Message at 0x16c36b44978>,\n",
       " <email.message.Message at 0x16c36b44eb8>,\n",
       " <email.message.Message at 0x16c36b48208>,\n",
       " <email.message.Message at 0x16c36b484e0>,\n",
       " <email.message.Message at 0x16c36b44ef0>,\n",
       " <email.message.Message at 0x16c36b358d0>,\n",
       " <email.message.Message at 0x16c36b48cf8>,\n",
       " <email.message.Message at 0x16c36b48c88>,\n",
       " <email.message.Message at 0x16c36b3dba8>,\n",
       " <email.message.Message at 0x16c36b4b4e0>,\n",
       " <email.message.Message at 0x16c36b4b518>,\n",
       " <email.message.Message at 0x16c36b48c50>,\n",
       " <email.message.Message at 0x16c36b4b7f0>,\n",
       " <email.message.Message at 0x16c36b4bcf8>,\n",
       " <email.message.Message at 0x16c36b502e8>,\n",
       " <email.message.Message at 0x16c36b50320>,\n",
       " <email.message.Message at 0x16c36b505f8>,\n",
       " <email.message.Message at 0x16c36b50be0>,\n",
       " <email.message.Message at 0x16c36b50c18>,\n",
       " <email.message.Message at 0x16c36b50b38>,\n",
       " <email.message.Message at 0x16c36b50b70>,\n",
       " <email.message.Message at 0x16c36b592e8>,\n",
       " <email.message.Message at 0x16c36b59588>,\n",
       " <email.message.Message at 0x16c36b59b70>,\n",
       " <email.message.Message at 0x16c36b50048>,\n",
       " <email.message.Message at 0x16c36b59828>,\n",
       " <email.message.Message at 0x16c36b59fd0>,\n",
       " <email.message.Message at 0x16c36b5b2b0>,\n",
       " <email.message.Message at 0x16c36b5b550>,\n",
       " <email.message.Message at 0x16c36b50898>,\n",
       " <email.message.Message at 0x16c36b5be80>,\n",
       " <email.message.Message at 0x16c36b5bdd8>,\n",
       " <email.message.Message at 0x16c36b5bd68>,\n",
       " <email.message.Message at 0x16c36b5be10>,\n",
       " <email.message.Message at 0x16c36b62940>,\n",
       " <email.message.Message at 0x16c36b625c0>,\n",
       " <email.message.Message at 0x16c36b62860>,\n",
       " <email.message.Message at 0x16c36b68160>,\n",
       " <email.message.Message at 0x16c36b68550>,\n",
       " <email.message.Message at 0x16c36b68080>,\n",
       " <email.message.Message at 0x16c36b5bda0>,\n",
       " <email.message.Message at 0x16c36b680b8>,\n",
       " <email.message.Message at 0x16c36b68dd8>,\n",
       " <email.message.Message at 0x16c36b62da0>,\n",
       " <email.message.Message at 0x16c36b6b0f0>,\n",
       " <email.message.Message at 0x16c36b6b7b8>,\n",
       " <email.message.Message at 0x16c36b68b38>,\n",
       " <email.message.Message at 0x16c36b6bbe0>,\n",
       " <email.message.Message at 0x16c36b6bb38>,\n",
       " <email.message.Message at 0x16c36b68e10>,\n",
       " <email.message.Message at 0x16c36b700f0>,\n",
       " <email.message.Message at 0x16c36b6bb70>,\n",
       " <email.message.Message at 0x16c36b708d0>,\n",
       " <email.message.Message at 0x16c36b70898>,\n",
       " <email.message.Message at 0x16c36b70390>,\n",
       " <email.message.Message at 0x16c36b70908>,\n",
       " <email.message.Message at 0x16c36b74358>,\n",
       " <email.message.Message at 0x16c36b740b8>,\n",
       " <email.message.Message at 0x16c36b74390>,\n",
       " <email.message.Message at 0x16c36b74b38>,\n",
       " <email.message.Message at 0x16c36b74898>,\n",
       " <email.message.Message at 0x16c36b6b390>,\n",
       " <email.message.Message at 0x16c36b790b8>,\n",
       " <email.message.Message at 0x16c36b795f8>,\n",
       " <email.message.Message at 0x16c36b79630>,\n",
       " <email.message.Message at 0x16c36b798d0>,\n",
       " <email.message.Message at 0x16c36b79b70>,\n",
       " <email.message.Message at 0x16c36b7e2b0>,\n",
       " <email.message.Message at 0x16c36b7e0f0>,\n",
       " <email.message.Message at 0x16c36b79e10>,\n",
       " <email.message.Message at 0x16c36b79358>,\n",
       " <email.message.Message at 0x16c36b7e940>,\n",
       " <email.message.Message at 0x16c36b7ef98>,\n",
       " <email.message.Message at 0x16c36b7ef60>,\n",
       " <email.message.Message at 0x16c36b7ebe0>,\n",
       " <email.message.Message at 0x16c36b826d8>,\n",
       " <email.message.Message at 0x16c36b74b70>,\n",
       " <email.message.Message at 0x16c36b82710>,\n",
       " <email.message.Message at 0x16c36b82fd0>,\n",
       " <email.message.Message at 0x16c36b82eb8>,\n",
       " <email.message.Message at 0x16c36b89438>,\n",
       " <email.message.Message at 0x16c36b82c18>,\n",
       " <email.message.Message at 0x16c36b89a58>,\n",
       " <email.message.Message at 0x16c36b89978>,\n",
       " <email.message.Message at 0x16c36b899b0>,\n",
       " <email.message.Message at 0x16c36b82ef0>,\n",
       " <email.message.Message at 0x16c36b89470>,\n",
       " <email.message.Message at 0x16c36b8e710>,\n",
       " <email.message.Message at 0x16c36b8ea20>,\n",
       " <email.message.Message at 0x16c36b8e208>,\n",
       " <email.message.Message at 0x16c36b8e748>,\n",
       " <email.message.Message at 0x16c36b89f28>,\n",
       " <email.message.Message at 0x16c36b944e0>,\n",
       " <email.message.Message at 0x16c36b94f28>,\n",
       " <email.message.Message at 0x16c36b94518>,\n",
       " <email.message.Message at 0x16c36b94a58>,\n",
       " <email.message.Message at 0x16c36b941d0>,\n",
       " <email.message.Message at 0x16c36b98278>,\n",
       " <email.message.Message at 0x16c36b98240>,\n",
       " <email.message.Message at 0x16c36b982b0>,\n",
       " <email.message.Message at 0x16c36b98a90>,\n",
       " <email.message.Message at 0x16c36b987b8>,\n",
       " <email.message.Message at 0x16c36b98a58>,\n",
       " <email.message.Message at 0x16c36b98f98>,\n",
       " <email.message.Message at 0x16c36b9d518>,\n",
       " <email.message.Message at 0x16c36b947b8>,\n",
       " <email.message.Message at 0x16c36b9d278>,\n",
       " <email.message.Message at 0x16c36b9de80>,\n",
       " <email.message.Message at 0x16c36b9da58>,\n",
       " <email.message.Message at 0x16c36b9dd30>,\n",
       " <email.message.Message at 0x16c36ba12e8>,\n",
       " <email.message.Message at 0x16c36ba1b70>,\n",
       " <email.message.Message at 0x16c36ba1588>,\n",
       " <email.message.Message at 0x16c36ba1e80>,\n",
       " <email.message.Message at 0x16c36ba1b38>,\n",
       " <email.message.Message at 0x16c36ba1828>,\n",
       " <email.message.Message at 0x16c36ba1ac8>,\n",
       " <email.message.Message at 0x16c36ba4828>,\n",
       " <email.message.Message at 0x16c36ba4c18>,\n",
       " <email.message.Message at 0x16c36ba4b00>,\n",
       " <email.message.Message at 0x16c36ba4588>,\n",
       " <email.message.Message at 0x16c36bad3c8>,\n",
       " <email.message.Message at 0x16c36bad2e8>,\n",
       " <email.message.Message at 0x16c36bad320>,\n",
       " <email.message.Message at 0x16c36b8eef0>,\n",
       " <email.message.Message at 0x16c36bad860>,\n",
       " <email.message.Message at 0x16c36bb2080>,\n",
       " <email.message.Message at 0x16c36badd68>,\n",
       " <email.message.Message at 0x16c36bb25f8>,\n",
       " <email.message.Message at 0x16c36bb2630>,\n",
       " <email.message.Message at 0x16c36bb28d0>,\n",
       " <email.message.Message at 0x16c36bb25c0>,\n",
       " <email.message.Message at 0x16c36bb6128>,\n",
       " <email.message.Message at 0x16c36ba4860>,\n",
       " <email.message.Message at 0x16c36bb65f8>,\n",
       " <email.message.Message at 0x16c36bb6630>,\n",
       " <email.message.Message at 0x16c36bb60b8>,\n",
       " <email.message.Message at 0x16c36bb68d0>,\n",
       " <email.message.Message at 0x16c36bb6dd8>,\n",
       " <email.message.Message at 0x16c36bba390>,\n",
       " <email.message.Message at 0x16c36bba0b8>,\n",
       " <email.message.Message at 0x16c36bba9b0>,\n",
       " <email.message.Message at 0x16c36bba940>,\n",
       " <email.message.Message at 0x16c36bba898>,\n",
       " <email.message.Message at 0x16c36bc00f0>,\n",
       " <email.message.Message at 0x16c36bc0748>,\n",
       " <email.message.Message at 0x16c36bc0438>,\n",
       " <email.message.Message at 0x16c36bc0400>,\n",
       " <email.message.Message at 0x16c36bba8d0>,\n",
       " <email.message.Message at 0x16c36bba358>,\n",
       " <email.message.Message at 0x16c36bc0dd8>,\n",
       " <email.message.Message at 0x16c36bc40b8>,\n",
       " <email.message.Message at 0x16c36bc4710>,\n",
       " <email.message.Message at 0x16c36bc4668>,\n",
       " <email.message.Message at 0x16c36bc46a0>,\n",
       " <email.message.Message at 0x16c36bc4be0>,\n",
       " <email.message.Message at 0x16c36bc4e80>,\n",
       " <email.message.Message at 0x16c36bc73c8>,\n",
       " <email.message.Message at 0x16c36bc7400>,\n",
       " <email.message.Message at 0x16c36bb2b70>,\n",
       " <email.message.Message at 0x16c36bc76a0>,\n",
       " <email.message.Message at 0x16c36bc7e48>,\n",
       " <email.message.Message at 0x16c36bc7e80>,\n",
       " <email.message.Message at 0x16c36bd13c8>,\n",
       " <email.message.Message at 0x16c36bd16d8>,\n",
       " <email.message.Message at 0x16c36bc4630>,\n",
       " <email.message.Message at 0x16c36bd1c18>,\n",
       " <email.message.Message at 0x16c36bd1400>,\n",
       " <email.message.Message at 0x16c36bd1ba8>,\n",
       " <email.message.Message at 0x16c36bd74e0>,\n",
       " <email.message.Message at 0x16c36bd7438>,\n",
       " <email.message.Message at 0x16c36bd7a58>,\n",
       " <email.message.Message at 0x16c36bd79b0>,\n",
       " <email.message.Message at 0x16c36bd79e8>,\n",
       " <email.message.Message at 0x16c36bd7f28>,\n",
       " <email.message.Message at 0x16c36bdb550>,\n",
       " <email.message.Message at 0x16c36bd7470>,\n",
       " <email.message.Message at 0x16c36bdba90>,\n",
       " <email.message.Message at 0x16c36bdbac8>,\n",
       " <email.message.Message at 0x16c36bdb470>,\n",
       " <email.message.Message at 0x16c36be0208>,\n",
       " <email.message.Message at 0x16c36bc7ba8>,\n",
       " <email.message.Message at 0x16c36be0748>,\n",
       " <email.message.Message at 0x16c36be0710>,\n",
       " <email.message.Message at 0x16c36be0780>,\n",
       " <email.message.Message at 0x16c36be4080>,\n",
       " <email.message.Message at 0x16c36be0f28>,\n",
       " <email.message.Message at 0x16c36be0f60>,\n",
       " <email.message.Message at 0x16c36be4710>,\n",
       " <email.message.Message at 0x16c36be4748>,\n",
       " <email.message.Message at 0x16c36be49e8>,\n",
       " <email.message.Message at 0x16c36be4c88>,\n",
       " <email.message.Message at 0x16c36be0c88>,\n",
       " <email.message.Message at 0x16c36bea518>,\n",
       " <email.message.Message at 0x16c36bea898>,\n",
       " <email.message.Message at 0x16c36bea4e0>,\n",
       " <email.message.Message at 0x16c36bea4a8>,\n",
       " <email.message.Message at 0x16c36beaf28>,\n",
       " <email.message.Message at 0x16c36bee2e8>,\n",
       " <email.message.Message at 0x16c36beaf60>,\n",
       " <email.message.Message at 0x16c36bea550>,\n",
       " <email.message.Message at 0x16c36bee7b8>,\n",
       " <email.message.Message at 0x16c36beea58>,\n",
       " <email.message.Message at 0x16c36bf3080>,\n",
       " <email.message.Message at 0x16c36be01d0>,\n",
       " <email.message.Message at 0x16c36beecf8>,\n",
       " <email.message.Message at 0x16c36bf3048>,\n",
       " <email.message.Message at 0x16c36bf3b70>,\n",
       " <email.message.Message at 0x16c36bf3ba8>,\n",
       " <email.message.Message at 0x16c36bf3ac8>,\n",
       " <email.message.Message at 0x16c36bf3a90>,\n",
       " <email.message.Message at 0x16c36bf7550>,\n",
       " <email.message.Message at 0x16c36bf7588>,\n",
       " <email.message.Message at 0x16c36bf7828>,\n",
       " <email.message.Message at 0x16c36bf37f0>,\n",
       " <email.message.Message at 0x16c36bfc080>,\n",
       " <email.message.Message at 0x16c36bfc0b8>,\n",
       " <email.message.Message at 0x16c36bfc358>,\n",
       " <email.message.Message at 0x16c36bfc5f8>,\n",
       " <email.message.Message at 0x16c36bfcba8>,\n",
       " <email.message.Message at 0x16c36bf3b00>,\n",
       " <email.message.Message at 0x16c36bf7ac8>,\n",
       " <email.message.Message at 0x16c36c01320>,\n",
       " <email.message.Message at 0x16c36c01358>,\n",
       " <email.message.Message at 0x16c36c01630>,\n",
       " <email.message.Message at 0x16c36c01c18>,\n",
       " <email.message.Message at 0x16c36c01080>,\n",
       " <email.message.Message at 0x16c36c061d0>,\n",
       " <email.message.Message at 0x16c36c06208>,\n",
       " <email.message.Message at 0x16c36c067f0>,\n",
       " <email.message.Message at 0x16c36bfc898>,\n",
       " <email.message.Message at 0x16c36c06d30>,\n",
       " <email.message.Message at 0x16c36c0c080>,\n",
       " <email.message.Message at 0x16c36c06cc0>,\n",
       " <email.message.Message at 0x16c36c06c50>,\n",
       " <email.message.Message at 0x16c36c0c6d8>,\n",
       " <email.message.Message at 0x16c36c0c9b0>,\n",
       " <email.message.Message at 0x16c36c0c710>,\n",
       " <email.message.Message at 0x16c36c06c18>,\n",
       " <email.message.Message at 0x16c36c06c88>,\n",
       " <email.message.Message at 0x16c36c12198>,\n",
       " <email.message.Message at 0x16c36c12438>,\n",
       " <email.message.Message at 0x16c36c129b0>,\n",
       " <email.message.Message at 0x16c36c12710>,\n",
       " <email.message.Message at 0x16c36c12f98>,\n",
       " <email.message.Message at 0x16c36c129e8>,\n",
       " <email.message.Message at 0x16c36c0c9e8>,\n",
       " <email.message.Message at 0x16c36c18748>,\n",
       " <email.message.Message at 0x16c36c18780>,\n",
       " <email.message.Message at 0x16c36c18a20>,\n",
       " <email.message.Message at 0x16c36c1e470>,\n",
       " <email.message.Message at 0x16c36c18f60>,\n",
       " <email.message.Message at 0x16c36c184a8>,\n",
       " <email.message.Message at 0x16c36c1e240>,\n",
       " <email.message.Message at 0x16c36c18cc0>,\n",
       " <email.message.Message at 0x16c36c1ed30>,\n",
       " <email.message.Message at 0x16c36c1ed68>,\n",
       " <email.message.Message at 0x16c36c222e8>,\n",
       " <email.message.Message at 0x16c36c1e748>,\n",
       " <email.message.Message at 0x16c36c22320>,\n",
       " <email.message.Message at 0x16c36c22cf8>,\n",
       " <email.message.Message at 0x16c36c22b38>,\n",
       " <email.message.Message at 0x16c36c28278>,\n",
       " <email.message.Message at 0x16c36c22b00>,\n",
       " <email.message.Message at 0x16c36c22b70>,\n",
       " <email.message.Message at 0x16c36c28860>,\n",
       " <email.message.Message at 0x16c36c285c0>,\n",
       " <email.message.Message at 0x16c36c28898>,\n",
       " <email.message.Message at 0x16c36c2d080>,\n",
       " <email.message.Message at 0x16c36c2d358>,\n",
       " <email.message.Message at 0x16c36c2d390>,\n",
       " <email.message.Message at 0x16c36c2d0b8>,\n",
       " <email.message.Message at 0x16c36c28da0>,\n",
       " <email.message.Message at 0x16c36c2d630>,\n",
       " <email.message.Message at 0x16c36c30080>,\n",
       " <email.message.Message at 0x16c36c30358>,\n",
       " <email.message.Message at 0x16c36c30668>,\n",
       " <email.message.Message at 0x16c36c300b8>,\n",
       " <email.message.Message at 0x16c36c30390>,\n",
       " <email.message.Message at 0x16c36c30b70>,\n",
       " <email.message.Message at 0x16c36c22860>,\n",
       " <email.message.Message at 0x16c36c2dda0>,\n",
       " <email.message.Message at 0x16c36c353c8>,\n",
       " <email.message.Message at 0x16c36c35710>,\n",
       " <email.message.Message at 0x16c36c359e8>,\n",
       " <email.message.Message at 0x16c36c35fd0>,\n",
       " <email.message.Message at 0x16c36c3a630>,\n",
       " <email.message.Message at 0x16c36c35f98>,\n",
       " <email.message.Message at 0x16c36c35c88>,\n",
       " <email.message.Message at 0x16c36c3a550>,\n",
       " <email.message.Message at 0x16c36c3aa58>,\n",
       " <email.message.Message at 0x16c36c3acf8>,\n",
       " <email.message.Message at 0x16c36c3af98>,\n",
       " <email.message.Message at 0x16c36c3d550>,\n",
       " <email.message.Message at 0x16c36c3d588>,\n",
       " <email.message.Message at 0x16c36c44358>,\n",
       " <email.message.Message at 0x16c36c4e048>,\n",
       " <email.message.Message at 0x16c36c44198>,\n",
       " <email.message.Message at 0x16c36c4eb38>,\n",
       " <email.message.Message at 0x16c36c44080>,\n",
       " <email.message.Message at 0x16c36c44940>,\n",
       " <email.message.Message at 0x16c36c44898>,\n",
       " <email.message.Message at 0x16c36c448d0>,\n",
       " <email.message.Message at 0x16c36c44fd0>,\n",
       " <email.message.Message at 0x16c36c3d518>,\n",
       " <email.message.Message at 0x16c36c44860>,\n",
       " <email.message.Message at 0x16c36c4e4a8>,\n",
       " <email.message.Message at 0x16c36c4e4e0>,\n",
       " <email.message.Message at 0x16c36c440b8>,\n",
       " <email.message.Message at 0x16c36c4b0f0>,\n",
       " <email.message.Message at 0x16c36c3dcf8>,\n",
       " <email.message.Message at 0x16c36c4b048>,\n",
       " <email.message.Message at 0x16c36c4efd0>,\n",
       " <email.message.Message at 0x16c36c4ba90>,\n",
       " <email.message.Message at 0x16c36c4e780>,\n",
       " <email.message.Message at 0x16c36c4bf98>,\n",
       " <email.message.Message at 0x16c36c4bfd0>,\n",
       " <email.message.Message at 0x16c36c57518>,\n",
       " <email.message.Message at 0x16c36c57828>,\n",
       " <email.message.Message at 0x16c36c577f0>,\n",
       " <email.message.Message at 0x16c36c57550>,\n",
       " <email.message.Message at 0x16c36c57860>,\n",
       " <email.message.Message at 0x16c36c4ef98>,\n",
       " <email.message.Message at 0x16c36c59630>,\n",
       " <email.message.Message at 0x16c36c592b0>,\n",
       " <email.message.Message at 0x16c36c4ba20>,\n",
       " <email.message.Message at 0x16c36c59550>,\n",
       " <email.message.Message at 0x16c36c59cf8>,\n",
       " <email.message.Message at 0x16c36c602e8>,\n",
       " <email.message.Message at 0x16c36c60320>,\n",
       " <email.message.Message at 0x16c36c60048>,\n",
       " <email.message.Message at 0x16c36c60ba8>,\n",
       " <email.message.Message at 0x16c36c605f8>,\n",
       " <email.message.Message at 0x16c36c64128>,\n",
       " <email.message.Message at 0x16c36c640f0>,\n",
       " <email.message.Message at 0x16c36c60b70>,\n",
       " <email.message.Message at 0x16c36c64978>,\n",
       " <email.message.Message at 0x16c36c648d0>,\n",
       " <email.message.Message at 0x16c36c64160>,\n",
       " <email.message.Message at 0x16c36c69198>,\n",
       " <email.message.Message at 0x16c36c69128>,\n",
       " <email.message.Message at 0x16c36c64908>,\n",
       " <email.message.Message at 0x16c36c69160>,\n",
       " <email.message.Message at 0x16c36c69908>,\n",
       " <email.message.Message at 0x16c36c69ba8>,\n",
       " <email.message.Message at 0x16c36c6d400>,\n",
       " <email.message.Message at 0x16c36c57fd0>,\n",
       " <email.message.Message at 0x16c36c6d128>,\n",
       " <email.message.Message at 0x16c36c6da20>,\n",
       " <email.message.Message at 0x16c36c6d6d8>,\n",
       " <email.message.Message at 0x16c36c6def0>,\n",
       " <email.message.Message at 0x16c36c6deb8>,\n",
       " <email.message.Message at 0x16c36c6d978>,\n",
       " <email.message.Message at 0x16c36c6df28>,\n",
       " <email.message.Message at 0x16c36c73978>,\n",
       " <email.message.Message at 0x16c36c739b0>,\n",
       " <email.message.Message at 0x16c36c736d8>,\n",
       " <email.message.Message at 0x16c36c7a320>,\n",
       " <email.message.Message at 0x16c36c73c50>,\n",
       " <email.message.Message at 0x16c36c7a7f0>,\n",
       " <email.message.Message at 0x16c36c7a198>,\n",
       " <email.message.Message at 0x16c36c7a710>,\n",
       " <email.message.Message at 0x16c36c7aef0>,\n",
       " <email.message.Message at 0x16c36c69e48>,\n",
       " <email.message.Message at 0x16c36c7d208>,\n",
       " <email.message.Message at 0x16c36c7d780>,\n",
       " <email.message.Message at 0x16c36c7d4a8>,\n",
       " <email.message.Message at 0x16c36c7af28>,\n",
       " <email.message.Message at 0x16c36c7def0>,\n",
       " <email.message.Message at 0x16c36c7ac50>,\n",
       " <email.message.Message at 0x16c36c85208>,\n",
       " <email.message.Message at 0x16c36c7df28>,\n",
       " <email.message.Message at 0x16c36c854a8>,\n",
       " <email.message.Message at 0x16c36c85c88>,\n",
       " <email.message.Message at 0x16c36c859b0>,\n",
       " <email.message.Message at 0x16c36c89240>,\n",
       " <email.message.Message at 0x16c36c89208>,\n",
       " <email.message.Message at 0x16c36c7d748>,\n",
       " <email.message.Message at 0x16c36c89278>,\n",
       " <email.message.Message at 0x16c36c89c88>,\n",
       " <email.message.Message at 0x16c36c899e8>,\n",
       " <email.message.Message at 0x16c36c89cc0>,\n",
       " <email.message.Message at 0x16c36c8e208>,\n",
       " <email.message.Message at 0x16c36c8e7f0>,\n",
       " <email.message.Message at 0x16c36c8eac8>,\n",
       " <email.message.Message at 0x16c36c8eb00>,\n",
       " <email.message.Message at 0x16c36c8eda0>,\n",
       " <email.message.Message at 0x16c36c8e780>,\n",
       " <email.message.Message at 0x16c36c94518>,\n",
       " <email.message.Message at 0x16c36c944e0>,\n",
       " <email.message.Message at 0x16c36c8e7b8>,\n",
       " <email.message.Message at 0x16c36c94550>,\n",
       " <email.message.Message at 0x16c36c94f60>,\n",
       " <email.message.Message at 0x16c36c94f98>,\n",
       " <email.message.Message at 0x16c36c97278>,\n",
       " <email.message.Message at 0x16c36c97860>,\n",
       " <email.message.Message at 0x16c36c97518>,\n",
       " <email.message.Message at 0x16c36c97da0>,\n",
       " <email.message.Message at 0x16c36c977b8>,\n",
       " <email.message.Message at 0x16c36c97cf8>,\n",
       " <email.message.Message at 0x16c36c94cc0>,\n",
       " <email.message.Message at 0x16c36c9c8d0>,\n",
       " <email.message.Message at 0x16c36c9c7b8>,\n",
       " <email.message.Message at 0x16c36c9c780>,\n",
       " <email.message.Message at 0x16c36c9c4e0>,\n",
       " <email.message.Message at 0x16c36ca22e8>,\n",
       " <email.message.Message at 0x16c36ca25c0>,\n",
       " <email.message.Message at 0x16c36ca2320>,\n",
       " <email.message.Message at 0x16c36ca2b00>,\n",
       " <email.message.Message at 0x16c36ca2b38>,\n",
       " <email.message.Message at 0x16c36c9c7f0>,\n",
       " <email.message.Message at 0x16c36c8e4e0>,\n",
       " <email.message.Message at 0x16c36ca65f8>,\n",
       " <email.message.Message at 0x16c36ca6358>,\n",
       " <email.message.Message at 0x16c36ca6b70>,\n",
       " ...]"
      ]
     },
     "execution_count": 4,
     "metadata": {},
     "output_type": "execute_result"
    }
   ],
   "source": [
    "emails"
   ]
  },
  {
   "cell_type": "code",
   "execution_count": 5,
   "metadata": {},
   "outputs": [
    {
     "data": {
      "text/plain": [
       "['Message-ID',\n",
       " 'Date',\n",
       " 'From',\n",
       " 'To',\n",
       " 'Subject',\n",
       " 'Mime-Version',\n",
       " 'Content-Type',\n",
       " 'Content-Transfer-Encoding',\n",
       " 'X-From',\n",
       " 'X-To',\n",
       " 'X-cc',\n",
       " 'X-bcc',\n",
       " 'X-Folder',\n",
       " 'X-Origin',\n",
       " 'X-FileName']"
      ]
     },
     "execution_count": 5,
     "metadata": {},
     "output_type": "execute_result"
    }
   ],
   "source": [
    "headings"
   ]
  },
  {
   "cell_type": "code",
   "execution_count": 14,
   "metadata": {},
   "outputs": [
    {
     "data": {
      "text/html": [
       "<div>\n",
       "<style scoped>\n",
       "    .dataframe tbody tr th:only-of-type {\n",
       "        vertical-align: middle;\n",
       "    }\n",
       "\n",
       "    .dataframe tbody tr th {\n",
       "        vertical-align: top;\n",
       "    }\n",
       "\n",
       "    .dataframe thead th {\n",
       "        text-align: right;\n",
       "    }\n",
       "</style>\n",
       "<table border=\"1\" class=\"dataframe\">\n",
       "  <thead>\n",
       "    <tr style=\"text-align: right;\">\n",
       "      <th></th>\n",
       "      <th>file</th>\n",
       "      <th>message</th>\n",
       "      <th>Message-ID</th>\n",
       "      <th>Date</th>\n",
       "      <th>From</th>\n",
       "      <th>To</th>\n",
       "      <th>Subject</th>\n",
       "      <th>Mime-Version</th>\n",
       "      <th>Content-Type</th>\n",
       "      <th>Content-Transfer-Encoding</th>\n",
       "      <th>X-From</th>\n",
       "      <th>X-To</th>\n",
       "      <th>X-cc</th>\n",
       "      <th>X-bcc</th>\n",
       "      <th>X-Folder</th>\n",
       "      <th>X-Origin</th>\n",
       "      <th>X-FileName</th>\n",
       "      <th>body</th>\n",
       "      <th>user</th>\n",
       "    </tr>\n",
       "  </thead>\n",
       "  <tbody>\n",
       "    <tr>\n",
       "      <th>0</th>\n",
       "      <td>allen-p/_sent_mail/1.</td>\n",
       "      <td>Message-ID: &lt;18782981.1075855378110.JavaMail.e...</td>\n",
       "      <td>&lt;18782981.1075855378110.JavaMail.evans@thyme&gt;</td>\n",
       "      <td>Mon, 14 May 2001 16:39:00 -0700 (PDT)</td>\n",
       "      <td>phillip.allen@enron.com</td>\n",
       "      <td>tim.belden@enron.com</td>\n",
       "      <td></td>\n",
       "      <td>1.0</td>\n",
       "      <td>text/plain; charset=us-ascii</td>\n",
       "      <td>7bit</td>\n",
       "      <td>Phillip K Allen</td>\n",
       "      <td>Tim Belden &lt;Tim Belden/Enron@EnronXGate&gt;</td>\n",
       "      <td></td>\n",
       "      <td></td>\n",
       "      <td>\\Phillip_Allen_Jan2002_1\\Allen, Phillip K.\\'Se...</td>\n",
       "      <td>Allen-P</td>\n",
       "      <td>pallen (Non-Privileged).pst</td>\n",
       "      <td>Here is our forecast\\n\\n</td>\n",
       "      <td>allen-p</td>\n",
       "    </tr>\n",
       "    <tr>\n",
       "      <th>1</th>\n",
       "      <td>allen-p/_sent_mail/10.</td>\n",
       "      <td>Message-ID: &lt;15464986.1075855378456.JavaMail.e...</td>\n",
       "      <td>&lt;15464986.1075855378456.JavaMail.evans@thyme&gt;</td>\n",
       "      <td>Fri, 4 May 2001 13:51:00 -0700 (PDT)</td>\n",
       "      <td>phillip.allen@enron.com</td>\n",
       "      <td>john.lavorato@enron.com</td>\n",
       "      <td>Re:</td>\n",
       "      <td>1.0</td>\n",
       "      <td>text/plain; charset=us-ascii</td>\n",
       "      <td>7bit</td>\n",
       "      <td>Phillip K Allen</td>\n",
       "      <td>John J Lavorato &lt;John J Lavorato/ENRON@enronXg...</td>\n",
       "      <td></td>\n",
       "      <td></td>\n",
       "      <td>\\Phillip_Allen_Jan2002_1\\Allen, Phillip K.\\'Se...</td>\n",
       "      <td>Allen-P</td>\n",
       "      <td>pallen (Non-Privileged).pst</td>\n",
       "      <td>Traveling to have a business meeting takes the...</td>\n",
       "      <td>allen-p</td>\n",
       "    </tr>\n",
       "    <tr>\n",
       "      <th>2</th>\n",
       "      <td>allen-p/_sent_mail/100.</td>\n",
       "      <td>Message-ID: &lt;24216240.1075855687451.JavaMail.e...</td>\n",
       "      <td>&lt;24216240.1075855687451.JavaMail.evans@thyme&gt;</td>\n",
       "      <td>Wed, 18 Oct 2000 03:00:00 -0700 (PDT)</td>\n",
       "      <td>phillip.allen@enron.com</td>\n",
       "      <td>leah.arsdall@enron.com</td>\n",
       "      <td>Re: test</td>\n",
       "      <td>1.0</td>\n",
       "      <td>text/plain; charset=us-ascii</td>\n",
       "      <td>7bit</td>\n",
       "      <td>Phillip K Allen</td>\n",
       "      <td>Leah Van Arsdall</td>\n",
       "      <td></td>\n",
       "      <td></td>\n",
       "      <td>\\Phillip_Allen_Dec2000\\Notes Folders\\'sent mail</td>\n",
       "      <td>Allen-P</td>\n",
       "      <td>pallen.nsf</td>\n",
       "      <td>test successful.  way to go!!!</td>\n",
       "      <td>allen-p</td>\n",
       "    </tr>\n",
       "    <tr>\n",
       "      <th>3</th>\n",
       "      <td>allen-p/_sent_mail/1000.</td>\n",
       "      <td>Message-ID: &lt;13505866.1075863688222.JavaMail.e...</td>\n",
       "      <td>&lt;13505866.1075863688222.JavaMail.evans@thyme&gt;</td>\n",
       "      <td>Mon, 23 Oct 2000 06:13:00 -0700 (PDT)</td>\n",
       "      <td>phillip.allen@enron.com</td>\n",
       "      <td>randall.gay@enron.com</td>\n",
       "      <td></td>\n",
       "      <td>1.0</td>\n",
       "      <td>text/plain; charset=us-ascii</td>\n",
       "      <td>7bit</td>\n",
       "      <td>Phillip K Allen</td>\n",
       "      <td>Randall L Gay</td>\n",
       "      <td></td>\n",
       "      <td></td>\n",
       "      <td>\\Phillip_Allen_Dec2000\\Notes Folders\\'sent mail</td>\n",
       "      <td>Allen-P</td>\n",
       "      <td>pallen.nsf</td>\n",
       "      <td>Randy,\\n\\n Can you send me a schedule of the s...</td>\n",
       "      <td>allen-p</td>\n",
       "    </tr>\n",
       "    <tr>\n",
       "      <th>4</th>\n",
       "      <td>allen-p/_sent_mail/1001.</td>\n",
       "      <td>Message-ID: &lt;30922949.1075863688243.JavaMail.e...</td>\n",
       "      <td>&lt;30922949.1075863688243.JavaMail.evans@thyme&gt;</td>\n",
       "      <td>Thu, 31 Aug 2000 05:07:00 -0700 (PDT)</td>\n",
       "      <td>phillip.allen@enron.com</td>\n",
       "      <td>greg.piper@enron.com</td>\n",
       "      <td>Re: Hello</td>\n",
       "      <td>1.0</td>\n",
       "      <td>text/plain; charset=us-ascii</td>\n",
       "      <td>7bit</td>\n",
       "      <td>Phillip K Allen</td>\n",
       "      <td>Greg Piper</td>\n",
       "      <td></td>\n",
       "      <td></td>\n",
       "      <td>\\Phillip_Allen_Dec2000\\Notes Folders\\'sent mail</td>\n",
       "      <td>Allen-P</td>\n",
       "      <td>pallen.nsf</td>\n",
       "      <td>Let's shoot for Tuesday at 11:45.</td>\n",
       "      <td>allen-p</td>\n",
       "    </tr>\n",
       "  </tbody>\n",
       "</table>\n",
       "</div>"
      ],
      "text/plain": [
       "                       file  \\\n",
       "0     allen-p/_sent_mail/1.   \n",
       "1    allen-p/_sent_mail/10.   \n",
       "2   allen-p/_sent_mail/100.   \n",
       "3  allen-p/_sent_mail/1000.   \n",
       "4  allen-p/_sent_mail/1001.   \n",
       "\n",
       "                                             message  \\\n",
       "0  Message-ID: <18782981.1075855378110.JavaMail.e...   \n",
       "1  Message-ID: <15464986.1075855378456.JavaMail.e...   \n",
       "2  Message-ID: <24216240.1075855687451.JavaMail.e...   \n",
       "3  Message-ID: <13505866.1075863688222.JavaMail.e...   \n",
       "4  Message-ID: <30922949.1075863688243.JavaMail.e...   \n",
       "\n",
       "                                      Message-ID  \\\n",
       "0  <18782981.1075855378110.JavaMail.evans@thyme>   \n",
       "1  <15464986.1075855378456.JavaMail.evans@thyme>   \n",
       "2  <24216240.1075855687451.JavaMail.evans@thyme>   \n",
       "3  <13505866.1075863688222.JavaMail.evans@thyme>   \n",
       "4  <30922949.1075863688243.JavaMail.evans@thyme>   \n",
       "\n",
       "                                    Date                     From  \\\n",
       "0  Mon, 14 May 2001 16:39:00 -0700 (PDT)  phillip.allen@enron.com   \n",
       "1   Fri, 4 May 2001 13:51:00 -0700 (PDT)  phillip.allen@enron.com   \n",
       "2  Wed, 18 Oct 2000 03:00:00 -0700 (PDT)  phillip.allen@enron.com   \n",
       "3  Mon, 23 Oct 2000 06:13:00 -0700 (PDT)  phillip.allen@enron.com   \n",
       "4  Thu, 31 Aug 2000 05:07:00 -0700 (PDT)  phillip.allen@enron.com   \n",
       "\n",
       "                        To    Subject Mime-Version  \\\n",
       "0     tim.belden@enron.com                     1.0   \n",
       "1  john.lavorato@enron.com        Re:          1.0   \n",
       "2   leah.arsdall@enron.com   Re: test          1.0   \n",
       "3    randall.gay@enron.com                     1.0   \n",
       "4     greg.piper@enron.com  Re: Hello          1.0   \n",
       "\n",
       "                   Content-Type Content-Transfer-Encoding           X-From  \\\n",
       "0  text/plain; charset=us-ascii                      7bit  Phillip K Allen   \n",
       "1  text/plain; charset=us-ascii                      7bit  Phillip K Allen   \n",
       "2  text/plain; charset=us-ascii                      7bit  Phillip K Allen   \n",
       "3  text/plain; charset=us-ascii                      7bit  Phillip K Allen   \n",
       "4  text/plain; charset=us-ascii                      7bit  Phillip K Allen   \n",
       "\n",
       "                                                X-To X-cc X-bcc  \\\n",
       "0           Tim Belden <Tim Belden/Enron@EnronXGate>              \n",
       "1  John J Lavorato <John J Lavorato/ENRON@enronXg...              \n",
       "2                                   Leah Van Arsdall              \n",
       "3                                      Randall L Gay              \n",
       "4                                         Greg Piper              \n",
       "\n",
       "                                            X-Folder X-Origin  \\\n",
       "0  \\Phillip_Allen_Jan2002_1\\Allen, Phillip K.\\'Se...  Allen-P   \n",
       "1  \\Phillip_Allen_Jan2002_1\\Allen, Phillip K.\\'Se...  Allen-P   \n",
       "2    \\Phillip_Allen_Dec2000\\Notes Folders\\'sent mail  Allen-P   \n",
       "3    \\Phillip_Allen_Dec2000\\Notes Folders\\'sent mail  Allen-P   \n",
       "4    \\Phillip_Allen_Dec2000\\Notes Folders\\'sent mail  Allen-P   \n",
       "\n",
       "                    X-FileName  \\\n",
       "0  pallen (Non-Privileged).pst   \n",
       "1  pallen (Non-Privileged).pst   \n",
       "2                   pallen.nsf   \n",
       "3                   pallen.nsf   \n",
       "4                   pallen.nsf   \n",
       "\n",
       "                                                body     user  \n",
       "0                          Here is our forecast\\n\\n   allen-p  \n",
       "1  Traveling to have a business meeting takes the...  allen-p  \n",
       "2                     test successful.  way to go!!!  allen-p  \n",
       "3  Randy,\\n\\n Can you send me a schedule of the s...  allen-p  \n",
       "4                Let's shoot for Tuesday at 11:45.    allen-p  "
      ]
     },
     "execution_count": 14,
     "metadata": {},
     "output_type": "execute_result"
    }
   ],
   "source": [
    "df.head()"
   ]
  },
  {
   "cell_type": "code",
   "execution_count": 6,
   "metadata": {
    "_uuid": "978057cd2567e0da3b80d4087fd8e7109033f21b"
   },
   "outputs": [],
   "source": [
    "##Useful functions\n",
    "def get_raw_text(emails):\n",
    "    email_text = []\n",
    "    for email in emails.walk():\n",
    "        if email.get_content_type() == 'text/plain':\n",
    "            email_text.append(email.get_payload())\n",
    "    return ''.join(email_text)\n",
    "\n",
    "df['body'] = list(map(get_raw_text, emails))\n",
    "df.head()\n",
    "df['user'] = df['file'].map(lambda x: x.split('/')[0])"
   ]
  },
  {
   "cell_type": "code",
   "execution_count": 7,
   "metadata": {
    "scrolled": true
   },
   "outputs": [
    {
     "data": {
      "text/plain": [
       "0                                Here is our forecast\\n\\n \n",
       "1        Traveling to have a business meeting takes the...\n",
       "2                           test successful.  way to go!!!\n",
       "3        Randy,\\n\\n Can you send me a schedule of the s...\n",
       "4                      Let's shoot for Tuesday at 11:45.  \n",
       "5        Greg,\\n\\n How about either next Tuesday or Thu...\n",
       "6        Please cc the following distribution list with...\n",
       "7                         any morning between 10 and 11:30\n",
       "8        1. login:  pallen pw: ke9davis\\n\\n I don't thi...\n",
       "9        ---------------------- Forwarded by Phillip K ...\n",
       "10       Mr. Buckner,\\n\\n For delivered gas behind San ...\n",
       "11       Lucy,\\n\\n Here are the rentrolls:\\n\\n\\n\\n Open...\n",
       "12       ---------------------- Forwarded by Phillip K ...\n",
       "13       ---------------------- Forwarded by Phillip K ...\n",
       "14       Dave, \\n\\n Here are the names of the west desk...\n",
       "15                Paula,\\n\\n 35 million is fine\\n\\nPhillip\n",
       "16       ---------------------- Forwarded by Phillip K ...\n",
       "17       Tim,\\n\\nmike grigsby is having problems with a...\n",
       "18       ---------------------- Forwarded by Phillip K ...\n",
       "19       ---------------------- Forwarded by Phillip K ...\n",
       "20       Brenda,\\n\\nPlease use the second check as the ...\n",
       "21       I think Fletch has a good CPA.  I am still doi...\n",
       "22       Brenda,\\n\\n Please use the second check as my ...\n",
       "23       ---------------------- Forwarded by Phillip K ...\n",
       "24       Liane,\\n\\n As we discussed yesterday, I am con...\n",
       "25       ---------------------- Forwarded by Phillip K ...\n",
       "26       ---------------------- Forwarded by Phillip K ...\n",
       "27       ---------------------- Forwarded by Phillip K ...\n",
       "28       Reagan,\\n\\nJust wanted to give you an update. ...\n",
       "29       Nymex expiration is during this time frame.  P...\n",
       "                               ...                        \n",
       "34970    CALENDAR ENTRY:\\tAPPOINTMENT\\n\\nDescription:\\n...\n",
       "34971    CALENDAR ENTRY:\\tAPPOINTMENT\\n\\nDescription:\\n...\n",
       "34972    CALENDAR ENTRY:\\tAPPOINTMENT\\n\\nDescription:\\n...\n",
       "34973    CALENDAR ENTRY:\\tAPPOINTMENT\\n\\nDescription:\\n...\n",
       "34974    CALENDAR ENTRY:\\tAPPOINTMENT\\n\\nDescription:\\n...\n",
       "34975    CALENDAR ENTRY:\\tINVITATION\\n\\nDescription:\\n\\...\n",
       "34976    CALENDAR ENTRY:\\tAPPOINTMENT\\n\\nDescription:\\n...\n",
       "34977    CALENDAR ENTRY:\\tAPPOINTMENT\\n\\nDescription:\\n...\n",
       "34978    CALENDAR ENTRY:\\tAPPOINTMENT\\n\\nDescription:\\n...\n",
       "34979    CALENDAR ENTRY:\\tAPPOINTMENT\\n\\nDescription:\\n...\n",
       "34980    CALENDAR ENTRY:\\tAPPOINTMENT\\n\\nDescription:\\n...\n",
       "34981    CALENDAR ENTRY:\\tAPPOINTMENT\\n\\nDescription:\\n...\n",
       "34982    CALENDAR ENTRY:\\tAPPOINTMENT\\n\\nDescription:\\n...\n",
       "34983    CALENDAR ENTRY:\\tAPPOINTMENT\\n\\nDescription:\\n...\n",
       "34984    CALENDAR ENTRY:\\tAPPOINTMENT\\n\\nDescription:\\n...\n",
       "34985    CALENDAR ENTRY:\\tAPPOINTMENT\\n\\nDescription:\\n...\n",
       "34986    CALENDAR ENTRY:\\tAPPOINTMENT\\n\\nDescription:\\n...\n",
       "34987    CALENDAR ENTRY:\\tAPPOINTMENT\\n\\nDescription:\\n...\n",
       "34988    CALENDAR ENTRY:\\tAPPOINTMENT\\n\\nDescription:\\n...\n",
       "34989    CALENDAR ENTRY:\\tAPPOINTMENT\\n\\nDescription:\\n...\n",
       "34990    CALENDAR ENTRY:\\tAPPOINTMENT\\n\\nDescription:\\n...\n",
       "34991    CALENDAR ENTRY:\\tAPPOINTMENT\\n\\nDescription:\\n...\n",
       "34992    CALENDAR ENTRY:\\tAPPOINTMENT\\n\\nDescription:\\n...\n",
       "34993    CALENDAR ENTRY:\\tAPPOINTMENT\\n\\nDescription:\\n...\n",
       "34994    CALENDAR ENTRY:\\tAPPOINTMENT\\n\\nDescription:\\n...\n",
       "34995    CALENDAR ENTRY:\\tAPPOINTMENT\\n\\nDescription:\\n...\n",
       "34996    CALENDAR ENTRY:\\tAPPOINTMENT\\n\\nDescription:\\n...\n",
       "34997    CALENDAR ENTRY:\\tAPPOINTMENT\\n\\nDescription:\\n...\n",
       "34998    CALENDAR ENTRY:\\tAPPOINTMENT\\n\\nDescription:\\n...\n",
       "34999    CALENDAR ENTRY:\\tAPPOINTMENT\\n\\nDescription:\\n...\n",
       "Name: body, Length: 35000, dtype: object"
      ]
     },
     "execution_count": 7,
     "metadata": {},
     "output_type": "execute_result"
    }
   ],
   "source": [
    "df['body']"
   ]
  },
  {
   "cell_type": "code",
   "execution_count": 8,
   "metadata": {
    "scrolled": true
   },
   "outputs": [
    {
     "data": {
      "text/plain": [
       "0        allen-p\n",
       "1        allen-p\n",
       "2        allen-p\n",
       "3        allen-p\n",
       "4        allen-p\n",
       "5        allen-p\n",
       "6        allen-p\n",
       "7        allen-p\n",
       "8        allen-p\n",
       "9        allen-p\n",
       "10       allen-p\n",
       "11       allen-p\n",
       "12       allen-p\n",
       "13       allen-p\n",
       "14       allen-p\n",
       "15       allen-p\n",
       "16       allen-p\n",
       "17       allen-p\n",
       "18       allen-p\n",
       "19       allen-p\n",
       "20       allen-p\n",
       "21       allen-p\n",
       "22       allen-p\n",
       "23       allen-p\n",
       "24       allen-p\n",
       "25       allen-p\n",
       "26       allen-p\n",
       "27       allen-p\n",
       "28       allen-p\n",
       "29       allen-p\n",
       "          ...   \n",
       "34970    blair-l\n",
       "34971    blair-l\n",
       "34972    blair-l\n",
       "34973    blair-l\n",
       "34974    blair-l\n",
       "34975    blair-l\n",
       "34976    blair-l\n",
       "34977    blair-l\n",
       "34978    blair-l\n",
       "34979    blair-l\n",
       "34980    blair-l\n",
       "34981    blair-l\n",
       "34982    blair-l\n",
       "34983    blair-l\n",
       "34984    blair-l\n",
       "34985    blair-l\n",
       "34986    blair-l\n",
       "34987    blair-l\n",
       "34988    blair-l\n",
       "34989    blair-l\n",
       "34990    blair-l\n",
       "34991    blair-l\n",
       "34992    blair-l\n",
       "34993    blair-l\n",
       "34994    blair-l\n",
       "34995    blair-l\n",
       "34996    blair-l\n",
       "34997    blair-l\n",
       "34998    blair-l\n",
       "34999    blair-l\n",
       "Name: user, Length: 35000, dtype: object"
      ]
     },
     "execution_count": 8,
     "metadata": {},
     "output_type": "execute_result"
    }
   ],
   "source": [
    "df['user']"
   ]
  },
  {
   "cell_type": "code",
   "execution_count": 16,
   "metadata": {
    "_uuid": "a1df6e41bc6db815de09d0a40c9423f65c824edf",
    "scrolled": true
   },
   "outputs": [
    {
     "data": {
      "text/plain": [
       "file                                      object\n",
       "message                                   object\n",
       "Message-ID                                object\n",
       "Date                         datetime64[ns, UTC]\n",
       "From                                      object\n",
       "To                                        object\n",
       "Subject                                   object\n",
       "Mime-Version                              object\n",
       "Content-Type                              object\n",
       "Content-Transfer-Encoding                 object\n",
       "X-From                                    object\n",
       "X-To                                      object\n",
       "X-cc                                      object\n",
       "X-bcc                                     object\n",
       "X-Folder                                  object\n",
       "X-Origin                                  object\n",
       "X-FileName                                object\n",
       "body                                      object\n",
       "user                                      object\n",
       "dtype: object"
      ]
     },
     "execution_count": 16,
     "metadata": {},
     "output_type": "execute_result"
    }
   ],
   "source": [
    "#converting object to datetime\n",
    "df['Date'] = pd.to_datetime(df['Date'], infer_datetime_format=True,utc=True)\n",
    "df.head()\n",
    "df.dtypes"
   ]
  },
  {
   "cell_type": "code",
   "execution_count": 18,
   "metadata": {
    "_uuid": "c48ce6b5e024562ad65cc2fc1d3289eedc3dba8b"
   },
   "outputs": [
    {
     "data": {
      "image/png": "[encoded data removed]",
      "text/plain": [
       "<Figure size 720x432 with 1 Axes>"
      ]
     },
     "metadata": {
      "needs_background": "light"
     },
     "output_type": "display_data"
    }
   ],
   "source": [
    "df['Month'] = df['Date'].dt.month\n",
    "df['Year'] = df['Date'].dt.year\n",
    "df['Day'] = df['Date'].dt.dayofweek\n",
    "\n",
    "# reduce the sample period\n",
    "# looks like the total number of emails really ramped up in 2000 and 2001\n",
    "indices = (df['Year'] > 1995) & (df['Year'] <= 2004)\n",
    "plt.figure(figsize = (10,6))\n",
    "figure1 = df.loc[indices].groupby('Year')['body'].count().plot()"
   ]
  },
  {
   "cell_type": "code",
   "execution_count": 47,
   "metadata": {
    "_uuid": "9a8d8a855684e5be5e314f52328402e221ae827d"
   },
   "outputs": [
    {
     "data": {
      "text/html": [
       "<div>\n",
       "<style scoped>\n",
       "    .dataframe tbody tr th:only-of-type {\n",
       "        vertical-align: middle;\n",
       "    }\n",
       "\n",
       "    .dataframe tbody tr th {\n",
       "        vertical-align: top;\n",
       "    }\n",
       "\n",
       "    .dataframe thead th {\n",
       "        text-align: right;\n",
       "    }\n",
       "</style>\n",
       "<table border=\"1\" class=\"dataframe\">\n",
       "  <thead>\n",
       "    <tr style=\"text-align: right;\">\n",
       "      <th></th>\n",
       "      <th>file</th>\n",
       "      <th>message</th>\n",
       "      <th>Message-ID</th>\n",
       "      <th>Date</th>\n",
       "      <th>From</th>\n",
       "      <th>To</th>\n",
       "      <th>Subject</th>\n",
       "      <th>Mime-Version</th>\n",
       "      <th>Content-Type</th>\n",
       "      <th>Content-Transfer-Encoding</th>\n",
       "      <th>...</th>\n",
       "      <th>X-cc</th>\n",
       "      <th>X-bcc</th>\n",
       "      <th>X-Folder</th>\n",
       "      <th>X-Origin</th>\n",
       "      <th>X-FileName</th>\n",
       "      <th>body</th>\n",
       "      <th>user</th>\n",
       "      <th>Month</th>\n",
       "      <th>Year</th>\n",
       "      <th>Day</th>\n",
       "    </tr>\n",
       "  </thead>\n",
       "  <tbody>\n",
       "  </tbody>\n",
       "</table>\n",
       "<p>0 rows × 22 columns</p>\n",
       "</div>"
      ],
      "text/plain": [
       "Empty DataFrame\n",
       "Columns: [file, message, Message-ID, Date, From, To, Subject, Mime-Version, Content-Type, Content-Transfer-Encoding, X-From, X-To, X-cc, X-bcc, X-Folder, X-Origin, X-FileName, body, user, Month, Year, Day]\n",
       "Index: []\n",
       "\n",
       "[0 rows x 22 columns]"
      ]
     },
     "execution_count": 47,
     "metadata": {},
     "output_type": "execute_result"
    }
   ],
   "source": [
    "df.Year.agg({'max': max, 'min': min})\n",
    "# really should not be dates up to 2044\n",
    "df[df['Year']==2044]"
   ]
  },
  {
   "cell_type": "code",
   "execution_count": 19,
   "metadata": {
    "_uuid": "6e19b69735894f5a229f5fe87d5bcbb4bc8bec13",
    "scrolled": false
   },
   "outputs": [
    {
     "data": {
      "image/png": "[encoded data removed]",
      "text/plain": [
       "<Figure size 720x432 with 1 Axes>"
      ]
     },
     "metadata": {
      "needs_background": "light"
     },
     "output_type": "display_data"
    }
   ],
   "source": [
    "#how many mails were there in each months\n",
    "plt.figure(figsize = (10,6))\n",
    "figure2 = df.groupby('Month')['body'].count().plot()"
   ]
  },
  {
   "cell_type": "code",
   "execution_count": 20,
   "metadata": {
    "_uuid": "a084ddaacbc7562926e0737a1aea74d3dcfee9c0"
   },
   "outputs": [
    {
     "data": {
      "image/png": "[encoded data removed]",
      "text/plain": [
       "<Figure size 720x432 with 1 Axes>"
      ]
     },
     "metadata": {
      "needs_background": "light"
     },
     "output_type": "display_data"
    }
   ],
   "source": [
    "#mails on weekly basis day wise\n",
    "plt.figure(figsize = (10,6))\n",
    "figure3 = df.groupby('Day')['body'].count().plot()"
   ]
  },
  {
   "cell_type": "code",
   "execution_count": 21,
   "metadata": {
    "_uuid": "e2fa353a4954a74489beb4aeef32603572d13c10"
   },
   "outputs": [
    {
     "name": "stdout",
     "output_type": "stream",
     "text": [
      "Total number of emails: 35000\n",
      "------------\n",
      "Number of unique received: 4926 \n",
      "------------\n",
      "Number of unique Sent: 2151 \n"
     ]
    }
   ],
   "source": [
    "#Unique to and From\n",
    "print('Total number of emails: %d' %len(df))\n",
    "print('------------')\n",
    "print('Number of unique received: %d '%df['To'].nunique())\n",
    "print('------------')\n",
    "print('Number of unique Sent: %d '%df['From'].nunique())"
   ]
  },
  {
   "cell_type": "markdown",
   "metadata": {
    "_uuid": "1add953c811099a0d5e03881b0261811198ea12a"
   },
   "source": [
    " Most frequent Senders and receivers of Emails"
   ]
  },
  {
   "cell_type": "code",
   "execution_count": 22,
   "metadata": {
    "_uuid": "662dc0d0be9d78805dcce9151a77b5424dec84d2"
   },
   "outputs": [
    {
     "data": {
      "text/plain": [
       "user\n",
       "beck-s        11830\n",
       "bass-e         7823\n",
       "arnold-j       4898\n",
       "allen-p        3034\n",
       "baughman-d     2760\n",
       "blair-l        1879\n",
       "badeer-r        877\n",
       "benson-r        767\n",
       "arora-h         654\n",
       "bailey-s        478\n",
       "Name: file, dtype: int64"
      ]
     },
     "execution_count": 22,
     "metadata": {},
     "output_type": "execute_result"
    }
   ],
   "source": [
    "top_10_frequent = df.groupby('user')['file'].count().sort_values(ascending = False)[:30]\n",
    "top_10_frequent"
   ]
  },
  {
   "cell_type": "code",
   "execution_count": 23,
   "metadata": {
    "_uuid": "704dc23c870123d6600983a4a2db674440961d40",
    "scrolled": false
   },
   "outputs": [
    {
     "data": {
      "text/plain": [
       "<matplotlib.axes._subplots.AxesSubplot at 0x1e543201a20>"
      ]
     },
     "execution_count": 23,
     "metadata": {},
     "output_type": "execute_result"
    },
    {
     "data": {
      "image/png": "[encoded data removed]",
      "text/plain": [
       "<Figure size 720x432 with 1 Axes>"
      ]
     },
     "metadata": {
      "needs_background": "light"
     },
     "output_type": "display_data"
    }
   ],
   "source": [
    "plt.figure(figsize = (10,6))\n",
    "top_10_frequent.plot(kind = 'bar',colormap=\"plasma\")"
   ]
  },
  {
   "cell_type": "markdown",
   "metadata": {
    "_uuid": "9e26634b729f18cbc1d4039761d8145ba3ddba45"
   },
   "source": [
    " Users and number of emails they sent by year.\n",
    "- huge increase in quantity of emails in the early 2000's"
   ]
  },
  {
   "cell_type": "code",
   "execution_count": 24,
   "metadata": {
    "_uuid": "f7db2bca1187edb2aa66b02fe11c5907dbfd4963",
    "scrolled": true
   },
   "outputs": [
    {
     "data": {
      "text/plain": [
       "user        Year\n",
       "allen-p     1980      10\n",
       "            1999       8\n",
       "            2000    1307\n",
       "            2001    1704\n",
       "            2002       5\n",
       "arnold-j    1980       8\n",
       "            2000    1832\n",
       "            2001    3056\n",
       "            2002       2\n",
       "arora-h     1980       2\n",
       "            2000      62\n",
       "            2001     580\n",
       "            2002      10\n",
       "badeer-r    2000     851\n",
       "            2001       2\n",
       "            2002      24\n",
       "bailey-s    2000       1\n",
       "            2001     127\n",
       "            2002     350\n",
       "bass-e      1980       6\n",
       "            1999      81\n",
       "            2000    5727\n",
       "            2001    1534\n",
       "            2002     473\n",
       "            2004       2\n",
       "baughman-d  1980       6\n",
       "            2000     176\n",
       "            2001    2145\n",
       "            2002     433\n",
       "beck-s      1980      16\n",
       "            1999      94\n",
       "            2000    7235\n",
       "            2001    4095\n",
       "            2002     390\n",
       "benson-r    2001     646\n",
       "            2002     121\n",
       "blair-l     2001    1873\n",
       "            2002       6\n",
       "Name: file, dtype: int64"
      ]
     },
     "execution_count": 24,
     "metadata": {},
     "output_type": "execute_result"
    }
   ],
   "source": [
    "df.groupby(['user', 'Year'])['file'].count()"
   ]
  },
  {
   "cell_type": "markdown",
   "metadata": {
    "_uuid": "8ee19edd8114d68c86e77b4f8d08dfabd7509f62"
   },
   "source": [
    " Check whether emails were to a single person or multiple people"
   ]
  },
  {
   "cell_type": "code",
   "execution_count": 25,
   "metadata": {
    "_uuid": "9f0855ff38fd5cba944d507ebdc485b8432e353c"
   },
   "outputs": [],
   "source": [
    "def split_data(data):\n",
    "    if data is not None:\n",
    "        temp = data.split(',')\n",
    "        if len(temp) == 1:\n",
    "            return 'Direct'\n",
    "        else:\n",
    "            return 'Multiple'\n",
    "    else:\n",
    "        return 'Empty'\n",
    "df['Direct_or_multi'] = df['To'].apply(split_data)"
   ]
  },
  {
   "cell_type": "markdown",
   "metadata": {
    "_uuid": "a476fd382b2b00d4e806f1165139bbaeba618907"
   },
   "source": [
    " Top 10 most frequent emailers\n"
   ]
  },
  {
   "cell_type": "code",
   "execution_count": 26,
   "metadata": {
    "_uuid": "82d66cad464de2c83a0e2424a773f09755e2b857",
    "scrolled": true
   },
   "outputs": [
    {
     "data": {
      "text/plain": [
       "user        Direct_or_multi\n",
       "beck-s      Direct             7595\n",
       "bass-e      Direct             5900\n",
       "arnold-j    Direct             4354\n",
       "beck-s      Multiple           3960\n",
       "allen-p     Direct             2631\n",
       "bass-e      Multiple           1738\n",
       "baughman-d  Direct             1327\n",
       "            Multiple           1311\n",
       "blair-l     Empty               723\n",
       "            Multiple            656\n",
       "badeer-r    Direct              544\n",
       "arora-h     Direct              505\n",
       "blair-l     Direct              500\n",
       "arnold-j    Multiple            408\n",
       "allen-p     Multiple            340\n",
       "Name: Direct_or_multi, dtype: int64"
      ]
     },
     "execution_count": 26,
     "metadata": {},
     "output_type": "execute_result"
    }
   ],
   "source": [
    "df.groupby('user')['Direct_or_multi'].value_counts().sort_values(ascending=False)[:15]"
   ]
  },
  {
   "cell_type": "markdown",
   "metadata": {
    "_uuid": "2f58d01ae7e02714493c625be6b1bc0252363dc2"
   },
   "source": [
    "4.3 Data cleaning"
   ]
  },
  {
   "cell_type": "code",
   "execution_count": 27,
   "metadata": {
    "_uuid": "d711ae74515769e2c6986f8b542192a06e41dfa8"
   },
   "outputs": [],
   "source": [
    "#data cleaning\n",
    "def clean_column(data):\n",
    "    if data is not None:\n",
    "        stopwords_list = stopwords.words('english')\n",
    "        #exclusions = ['RE:', 'Re:', 're:']\n",
    "        #exclusions = '|'.join(exclusions)\n",
    "        data =  data.lower()\n",
    "        data = re.sub('re:', '', data)\n",
    "        data = re.sub('-', '', data)\n",
    "        data = re.sub('_', '', data)\n",
    "        # Remove data between square brackets\n",
    "        data =re.sub('\\[[^]]*\\]', '', data)\n",
    "        # removes punctuation\n",
    "        data = re.sub(r'[^\\w\\s]','',data)\n",
    "        data = re.sub(r'\\n',' ',data)\n",
    "        data = re.sub(r'[0-9]+','',data)\n",
    "        # strip html \n",
    "        p = re.compile(r'<.*?>')\n",
    "        data = re.sub(r\"\\'ve\", \" have \", data)\n",
    "        data = re.sub(r\"can't\", \"cannot \", data)\n",
    "        data = re.sub(r\"n't\", \" not \", data)\n",
    "        data = re.sub(r\"I'm\", \"I am\", data)\n",
    "        data = re.sub(r\" m \", \" am \", data)\n",
    "        data = re.sub(r\"\\'re\", \" are \", data)\n",
    "        data = re.sub(r\"\\'d\", \" would \", data)\n",
    "        data = re.sub(r\"\\'ll\", \" will \", data)\n",
    "        data = re.sub('forwarded by phillip k allenhouect on    pm', '',data)\n",
    "        data = re.sub(r\"httpitcappscorpenroncomsrrsauthemaillinkaspidpage\", \"\", data)\n",
    "        \n",
    "        data = p.sub('', data)\n",
    "        if 'forwarded by:' in data:\n",
    "            data = data.split('subject')[1]\n",
    "        data = data.strip()\n",
    "        return data\n",
    "    return 'No Subject'\n",
    "\n",
    "\n",
    "df['Subject_new'] = df['Subject'].apply(clean_column)\n",
    "df['body_new'] = df['body'].apply(clean_column)"
   ]
  },
  {
   "cell_type": "code",
   "execution_count": 33,
   "metadata": {
    "_uuid": "9809ae509c60a46a0e2c3d48bbc5d57c0569fec0"
   },
   "outputs": [],
   "source": [
    "#importing word cloud and adding stopwords\n",
    "from wordcloud import WordCloud, STOPWORDS\n",
    "\n",
    "stopwords = set(STOPWORDS)\n",
    "to_add = ['FW', 'ga', 'httpitcappscorpenroncomsrrsauthemaillinkaspidpage', 'cc', 'aa', 'aaa', 'aaaa',\n",
    "         'hou', 'cc', 'etc', 'subject', 'pm']\n",
    "\n",
    "for i in to_add:\n",
    "    stopwords.add(i)"
   ]
  },
  {
   "cell_type": "markdown",
   "metadata": {
    "_uuid": "25b47b86da74b06b02526beede75009eafa519bc"
   },
   "source": [
    " 4.4 Visualise Email Subject"
   ]
  },
  {
   "cell_type": "code",
   "execution_count": 34,
   "metadata": {
    "_uuid": "2c60b4e6df35b43838533a1b767951d1ad8bd07c",
    "scrolled": false
   },
   "outputs": [
    {
     "name": "stdout",
     "output_type": "stream",
     "text": [
      "<wordcloud.wordcloud.WordCloud object at 0x000001E543B5D5F8>\n"
     ]
    },
    {
     "data": {
      "image/png": "[encoded data removed]",
      "text/plain": [
       "<Figure size 648x576 with 1 Axes>"
      ]
     },
     "metadata": {
      "needs_background": "light"
     },
     "output_type": "display_data"
    }
   ],
   "source": [
    "wordcloud = WordCloud(\n",
    "                          collocations = False,\n",
    "                          width=1600, height=800,\n",
    "                          background_color='white',\n",
    "                          stopwords=stopwords,\n",
    "                          max_words=150,\n",
    "                          #max_font_size=40, \n",
    "                          random_state=42\n",
    "                         ).generate(' '.join(df['Subject_new'])) # can't pass a series, needs to be strings and function computes frequencies\n",
    "print(wordcloud)\n",
    "plt.figure(figsize=(9,8))\n",
    "fig = plt.figure(1)\n",
    "plt.imshow(wordcloud)\n",
    "plt.axis('off')\n",
    "plt.show()"
   ]
  },
  {
   "cell_type": "code",
   "execution_count": 35,
   "metadata": {
    "_uuid": "67afac559debc594e09bf593c04d4c9778f6a496"
   },
   "outputs": [],
   "source": [
    "#Stemming refers to the removal of suffices, like “ing”, “ly”, “s”, etc. by a simple rule-based approach. For this purpose, we will use PorterStemmer from the NLTK library.\n",
    "stemmer = PorterStemmer()\n",
    "def stemming_tokenizer(str_input):\n",
    "    words = re.sub(r\"[^A-Za-z0-9\\-]\", \" \", str_input).lower().split()\n",
    "    words = [porter_stemmer.stem(word) for word in words]\n",
    "    return words"
   ]
  },
  {
   "cell_type": "code",
   "execution_count": 36,
   "metadata": {
    "_uuid": "3e367f222519fc8833a6699e5f845c35ceccff9a"
   },
   "outputs": [],
   "source": [
    "#tokenizes (splits the synopsis into a list of its respective words (or tokens) and also stems each token\n",
    "def tokenize_and_stem(text):\n",
    "    # first tokenize by sentence, then by word to ensure that punctuation is caught as it's own token\n",
    "    tokens = [word for sent in nltk.sent_tokenize(text) for word in nltk.word_tokenize(sent)]\n",
    "    filtered_tokens = []\n",
    "    # filter out any tokens not containing letters (e.g., numeric tokens, raw punctuation)\n",
    "    for token in tokens:\n",
    "        if re.search('[a-zA-Z]', token):\n",
    "            filtered_tokens.append(token)\n",
    "    stems = [stemmer.stem(t) for t in filtered_tokens]\n",
    "    return stems"
   ]
  },
  {
   "cell_type": "markdown",
   "metadata": {
    "_uuid": "2d4e159568edeef437994f71b111211786e03e26"
   },
   "source": [
    "4.5 TF-IDF tranformation for K-means algorithm"
   ]
  },
  {
   "cell_type": "code",
   "execution_count": 43,
   "metadata": {
    "_uuid": "d24536f6bdb6c02a40ae3c991947e2974d91fa4d",
    "scrolled": false
   },
   "outputs": [
    {
     "name": "stderr",
     "output_type": "stream",
     "text": [
      "C:\\Users\\rana\\Anaconda3\\lib\\site-packages\\sklearn\\feature_extraction\\text.py:300: UserWarning: Your stop_words may be inconsistent with your preprocessing. Tokenizing the stop words generated tokens [\"'d\", \"'ll\", \"'m\", \"'re\", \"'s\", \"'ve\", 'abov', 'ani', 'becaus', 'befor', 'ca', 'doe', 'dure', 'els', 'fw', 'ha', 'henc', 'hi', 'howev', 'httpitcappscorpenroncomsrrsauthemaillinkaspidpag', 'let', 'must', \"n't\", 'onc', 'onli', 'otherwis', 'ourselv', 'sha', 'sinc', 'themselv', 'therefor', 'thi', 'veri', 'wa', 'whi', 'wo', 'yourselv'] not in stop_words.\n",
      "  'stop_words.' % sorted(inconsistent))\n"
     ]
    },
    {
     "name": "stdout",
     "output_type": "stream",
     "text": [
      "Wall time: 6min 51s\n"
     ]
    },
    {
     "data": {
      "text/html": [
       "<div>\n",
       "<style scoped>\n",
       "    .dataframe tbody tr th:only-of-type {\n",
       "        vertical-align: middle;\n",
       "    }\n",
       "\n",
       "    .dataframe tbody tr th {\n",
       "        vertical-align: top;\n",
       "    }\n",
       "\n",
       "    .dataframe thead th {\n",
       "        text-align: right;\n",
       "    }\n",
       "</style>\n",
       "<table border=\"1\" class=\"dataframe\">\n",
       "  <thead>\n",
       "    <tr style=\"text-align: right;\">\n",
       "      <th></th>\n",
       "      <th>aaron</th>\n",
       "      <th>ab</th>\n",
       "      <th>abandon</th>\n",
       "      <th>abc</th>\n",
       "      <th>abcsubstringabclength</th>\n",
       "      <th>abel</th>\n",
       "      <th>abelhouectect</th>\n",
       "      <th>abil</th>\n",
       "      <th>abl</th>\n",
       "      <th>abov</th>\n",
       "      <th>...</th>\n",
       "      <th>yr</th>\n",
       "      <th>yvett</th>\n",
       "      <th>z</th>\n",
       "      <th>zadow</th>\n",
       "      <th>zdnet</th>\n",
       "      <th>zero</th>\n",
       "      <th>zhiyong</th>\n",
       "      <th>zip</th>\n",
       "      <th>zipper</th>\n",
       "      <th>zone</th>\n",
       "    </tr>\n",
       "  </thead>\n",
       "  <tbody>\n",
       "    <tr>\n",
       "      <th>0</th>\n",
       "      <td>0.0</td>\n",
       "      <td>0.0</td>\n",
       "      <td>0.0</td>\n",
       "      <td>0.0</td>\n",
       "      <td>0.0</td>\n",
       "      <td>0.0</td>\n",
       "      <td>0.0</td>\n",
       "      <td>0.0</td>\n",
       "      <td>0.0</td>\n",
       "      <td>0.0</td>\n",
       "      <td>...</td>\n",
       "      <td>0.0</td>\n",
       "      <td>0.0</td>\n",
       "      <td>0.0</td>\n",
       "      <td>0.0</td>\n",
       "      <td>0.0</td>\n",
       "      <td>0.0</td>\n",
       "      <td>0.0</td>\n",
       "      <td>0.0</td>\n",
       "      <td>0.0</td>\n",
       "      <td>0.0</td>\n",
       "    </tr>\n",
       "    <tr>\n",
       "      <th>1</th>\n",
       "      <td>0.0</td>\n",
       "      <td>0.0</td>\n",
       "      <td>0.0</td>\n",
       "      <td>0.0</td>\n",
       "      <td>0.0</td>\n",
       "      <td>0.0</td>\n",
       "      <td>0.0</td>\n",
       "      <td>0.0</td>\n",
       "      <td>0.0</td>\n",
       "      <td>0.0</td>\n",
       "      <td>...</td>\n",
       "      <td>0.0</td>\n",
       "      <td>0.0</td>\n",
       "      <td>0.0</td>\n",
       "      <td>0.0</td>\n",
       "      <td>0.0</td>\n",
       "      <td>0.0</td>\n",
       "      <td>0.0</td>\n",
       "      <td>0.0</td>\n",
       "      <td>0.0</td>\n",
       "      <td>0.0</td>\n",
       "    </tr>\n",
       "    <tr>\n",
       "      <th>2</th>\n",
       "      <td>0.0</td>\n",
       "      <td>0.0</td>\n",
       "      <td>0.0</td>\n",
       "      <td>0.0</td>\n",
       "      <td>0.0</td>\n",
       "      <td>0.0</td>\n",
       "      <td>0.0</td>\n",
       "      <td>0.0</td>\n",
       "      <td>0.0</td>\n",
       "      <td>0.0</td>\n",
       "      <td>...</td>\n",
       "      <td>0.0</td>\n",
       "      <td>0.0</td>\n",
       "      <td>0.0</td>\n",
       "      <td>0.0</td>\n",
       "      <td>0.0</td>\n",
       "      <td>0.0</td>\n",
       "      <td>0.0</td>\n",
       "      <td>0.0</td>\n",
       "      <td>0.0</td>\n",
       "      <td>0.0</td>\n",
       "    </tr>\n",
       "    <tr>\n",
       "      <th>3</th>\n",
       "      <td>0.0</td>\n",
       "      <td>0.0</td>\n",
       "      <td>0.0</td>\n",
       "      <td>0.0</td>\n",
       "      <td>0.0</td>\n",
       "      <td>0.0</td>\n",
       "      <td>0.0</td>\n",
       "      <td>0.0</td>\n",
       "      <td>0.0</td>\n",
       "      <td>0.0</td>\n",
       "      <td>...</td>\n",
       "      <td>0.0</td>\n",
       "      <td>0.0</td>\n",
       "      <td>0.0</td>\n",
       "      <td>0.0</td>\n",
       "      <td>0.0</td>\n",
       "      <td>0.0</td>\n",
       "      <td>0.0</td>\n",
       "      <td>0.0</td>\n",
       "      <td>0.0</td>\n",
       "      <td>0.0</td>\n",
       "    </tr>\n",
       "    <tr>\n",
       "      <th>4</th>\n",
       "      <td>0.0</td>\n",
       "      <td>0.0</td>\n",
       "      <td>0.0</td>\n",
       "      <td>0.0</td>\n",
       "      <td>0.0</td>\n",
       "      <td>0.0</td>\n",
       "      <td>0.0</td>\n",
       "      <td>0.0</td>\n",
       "      <td>0.0</td>\n",
       "      <td>0.0</td>\n",
       "      <td>...</td>\n",
       "      <td>0.0</td>\n",
       "      <td>0.0</td>\n",
       "      <td>0.0</td>\n",
       "      <td>0.0</td>\n",
       "      <td>0.0</td>\n",
       "      <td>0.0</td>\n",
       "      <td>0.0</td>\n",
       "      <td>0.0</td>\n",
       "      <td>0.0</td>\n",
       "      <td>0.0</td>\n",
       "    </tr>\n",
       "  </tbody>\n",
       "</table>\n",
       "<p>5 rows × 5000 columns</p>\n",
       "</div>"
      ],
      "text/plain": [
       "   aaron   ab  abandon  abc  abcsubstringabclength  abel  abelhouectect  abil  \\\n",
       "0    0.0  0.0      0.0  0.0                    0.0   0.0            0.0   0.0   \n",
       "1    0.0  0.0      0.0  0.0                    0.0   0.0            0.0   0.0   \n",
       "2    0.0  0.0      0.0  0.0                    0.0   0.0            0.0   0.0   \n",
       "3    0.0  0.0      0.0  0.0                    0.0   0.0            0.0   0.0   \n",
       "4    0.0  0.0      0.0  0.0                    0.0   0.0            0.0   0.0   \n",
       "\n",
       "   abl  abov  ...   yr  yvett    z  zadow  zdnet  zero  zhiyong  zip  zipper  \\\n",
       "0  0.0   0.0  ...  0.0    0.0  0.0    0.0    0.0   0.0      0.0  0.0     0.0   \n",
       "1  0.0   0.0  ...  0.0    0.0  0.0    0.0    0.0   0.0      0.0  0.0     0.0   \n",
       "2  0.0   0.0  ...  0.0    0.0  0.0    0.0    0.0   0.0      0.0  0.0     0.0   \n",
       "3  0.0   0.0  ...  0.0    0.0  0.0    0.0    0.0   0.0      0.0  0.0     0.0   \n",
       "4  0.0   0.0  ...  0.0    0.0  0.0    0.0    0.0   0.0      0.0  0.0     0.0   \n",
       "\n",
       "   zone  \n",
       "0   0.0  \n",
       "1   0.0  \n",
       "2   0.0  \n",
       "3   0.0  \n",
       "4   0.0  \n",
       "\n",
       "[5 rows x 5000 columns]"
      ]
     },
     "execution_count": 43,
     "metadata": {},
     "output_type": "execute_result"
    }
   ],
   "source": [
    "# term frequency-inverse document frequency weighting: words that occur frequently within a document but not frequently within the corpus receive a higher weighting as these words are assumed to contain more meaning in relation to the document.\n",
    "from sklearn.feature_extraction.text import TfidfVectorizer\n",
    "data = df['body_new']\n",
    "# data.head()\n",
    "\n",
    "tf_idf_vectorizor = TfidfVectorizer(stop_words = stopwords,tokenizer = tokenize_and_stem,\n",
    "                             max_features = 5000)\n",
    "%time tf_idf = tf_idf_vectorizor.fit_transform(data)\n",
    "tf_idf_norm = normalize(tf_idf)\n",
    "tf_idf_array = tf_idf_norm.toarray()\n",
    "pd.DataFrame(tf_idf_array, columns=tf_idf_vectorizor.get_feature_names()).head()"
   ]
  },
  {
   "cell_type": "markdown",
   "metadata": {
    "_uuid": "98df5260d4eb50d8483e420673b5d80bd1040eb0"
   },
   "source": [
    "4.6 SK learn Implementation"
   ]
  },
  {
   "cell_type": "code",
   "execution_count": 126,
   "metadata": {},
   "outputs": [],
   "source": [
    "##we will compute and tabulate cluster quality for different cluster counts"
   ]
  },
  {
   "cell_type": "code",
   "execution_count": 86,
   "metadata": {
    "scrolled": true
   },
   "outputs": [
    {
     "name": "stdout",
     "output_type": "stream",
     "text": [
      "Wall time: 37.2 s\n",
      "Parser   : 720 ms\n"
     ]
    },
    {
     "data": {
      "image/png": "[encoded data removed]",
      "text/plain": [
       "<Figure size 432x288 with 1 Axes>"
      ]
     },
     "metadata": {
      "needs_background": "light"
     },
     "output_type": "display_data"
    }
   ],
   "source": [
    "#cluster count 2\n",
    "#PCA reduces dimensionality.\n",
    "#The intuition is that PCA seeks to represent all n data vectors as linear combinations of a small number of eigenvectors, and does it to minimize the mean-squared reconstruction error.\n",
    "#In contrast, K-means seeks to represent all n data vectors via small number of cluster centroids, i.e. to represent them as linear combinations of a small number of cluster centroid \n",
    "#vectors where linear combination weights must be all zero except for the single 1. This is also done to minimize the mean-squared reconstruction error.\n",
    "\n",
    "from sklearn.cluster import KMeans\n",
    "n_clusters = 2\n",
    "sklearn_pca = PCA(n_components = 2)\n",
    "Y_sklearn = sklearn_pca.fit_transform(tf_idf_array)\n",
    "kmeans = KMeans(n_clusters= n_clusters, max_iter=600, algorithm = 'auto')\n",
    "%time fitted = kmeans.fit(Y_sklearn)\n",
    "prediction = kmeans.predict(Y_sklearn)\n",
    "\n",
    "plt.scatter(Y_sklearn[:, 0], Y_sklearn[:, 1],c=prediction ,s=50, cmap='viridis')\n",
    "\n",
    "centers2 = fitted.cluster_centers_\n",
    "plt.scatter(centers2[:, 0], centers2[:, 1],c='black', s=300, alpha=0.6);"
   ]
  },
  {
   "cell_type": "code",
   "execution_count": 87,
   "metadata": {},
   "outputs": [],
   "source": [
    "a2=fitted.labels_ "
   ]
  },
  {
   "cell_type": "code",
   "execution_count": 88,
   "metadata": {},
   "outputs": [
    {
     "name": "stdout",
     "output_type": "stream",
     "text": [
      "0.1433498122699349\n"
     ]
    }
   ],
   "source": [
    "#for cluster count 2\n",
    "print(davies_bouldin_score(Y_sklearn, a2)) \n"
   ]
  },
  {
   "cell_type": "code",
   "execution_count": 95,
   "metadata": {
    "_uuid": "c1a364850092c057485d1fe2b15ab38649527e4e",
    "scrolled": true
   },
   "outputs": [
    {
     "name": "stdout",
     "output_type": "stream",
     "text": [
      "Wall time: 1min 10s\n",
      "Parser   : 3.81 s\n"
     ]
    },
    {
     "data": {
      "image/png": "[encoded data removed]",
      "text/plain": [
       "<Figure size 432x288 with 1 Axes>"
      ]
     },
     "metadata": {
      "needs_background": "light"
     },
     "output_type": "display_data"
    }
   ],
   "source": [
    "#cluster count 3\n",
    "n_clusters = 3\n",
    "sklearn_pca = PCA(n_components = 2)\n",
    "Y_sklearn = sklearn_pca.fit_transform(tf_idf_array)\n",
    "kmeans = KMeans(n_clusters= n_clusters, max_iter=600, algorithm = 'auto')\n",
    "%time fitted = kmeans.fit(Y_sklearn)\n",
    "prediction = kmeans.predict(Y_sklearn)\n",
    "\n",
    "plt.scatter(Y_sklearn[:, 0], Y_sklearn[:, 1],c=prediction ,s=50, cmap='viridis')\n",
    "\n",
    "centers2 = fitted.cluster_centers_\n",
    "plt.scatter(centers2[:, 0], centers2[:, 1],c='black', s=300, alpha=0.6);"
   ]
  },
  {
   "cell_type": "code",
   "execution_count": 96,
   "metadata": {},
   "outputs": [],
   "source": [
    "a3=fitted.labels_"
   ]
  },
  {
   "cell_type": "code",
   "execution_count": 97,
   "metadata": {
    "scrolled": true
   },
   "outputs": [
    {
     "name": "stdout",
     "output_type": "stream",
     "text": [
      "0.16898525354135754\n"
     ]
    }
   ],
   "source": [
    "#for cluster count 3\n",
    "from sklearn.metrics import davies_bouldin_score \n",
    "print(davies_bouldin_score(Y_sklearn, a3)) \n"
   ]
  },
  {
   "cell_type": "code",
   "execution_count": 80,
   "metadata": {
    "scrolled": false
   },
   "outputs": [
    {
     "name": "stdout",
     "output_type": "stream",
     "text": [
      "Wall time: 20.3 s\n",
      "Parser   : 476 ms\n"
     ]
    },
    {
     "data": {
      "image/png": "[encoded data removed]",
      "text/plain": [
       "<Figure size 432x288 with 1 Axes>"
      ]
     },
     "metadata": {
      "needs_background": "light"
     },
     "output_type": "display_data"
    }
   ],
   "source": [
    "##cluster count 4\n",
    "n_clusters = 4\n",
    "sklearn_pca = PCA(n_components = 2)\n",
    "Y_sklearn = sklearn_pca.fit_transform(tf_idf_array)\n",
    "kmeans = KMeans(n_clusters= n_clusters, max_iter=600, algorithm = 'auto')\n",
    "%time fitted = kmeans.fit(Y_sklearn)\n",
    "prediction = kmeans.predict(Y_sklearn)\n",
    "\n",
    "plt.scatter(Y_sklearn[:, 0], Y_sklearn[:, 1],c=prediction ,s=50, cmap='viridis')\n",
    "\n",
    "centers2 = fitted.cluster_centers_\n",
    "plt.scatter(centers2[:, 0], centers2[:, 1],c='black', s=300, alpha=0.6);"
   ]
  },
  {
   "cell_type": "code",
   "execution_count": null,
   "metadata": {},
   "outputs": [],
   "source": [
    "a4=fitted.labels_"
   ]
  },
  {
   "cell_type": "code",
   "execution_count": 82,
   "metadata": {},
   "outputs": [
    {
     "name": "stdout",
     "output_type": "stream",
     "text": [
      "0.5203524620701652\n"
     ]
    }
   ],
   "source": [
    "# for cluster count 4\n",
    "print(davies_bouldin_score(Y_sklearn, a4)) \n"
   ]
  },
  {
   "cell_type": "code",
   "execution_count": 83,
   "metadata": {},
   "outputs": [
    {
     "name": "stdout",
     "output_type": "stream",
     "text": [
      "Wall time: 53.4 s\n",
      "Parser   : 5.49 s\n"
     ]
    },
    {
     "data": {
      "image/png": "[encoded data removed]",
      "text/plain": [
       "<Figure size 432x288 with 1 Axes>"
      ]
     },
     "metadata": {
      "needs_background": "light"
     },
     "output_type": "display_data"
    }
   ],
   "source": [
    "##cluster count 5\n",
    "n_clusters = 5\n",
    "sklearn_pca = PCA(n_components = 2)\n",
    "Y_sklearn = sklearn_pca.fit_transform(tf_idf_array)\n",
    "kmeans = KMeans(n_clusters= n_clusters, max_iter=600, algorithm = 'auto')\n",
    "%time fitted = kmeans.fit(Y_sklearn)\n",
    "prediction = kmeans.predict(Y_sklearn)\n",
    "\n",
    "plt.scatter(Y_sklearn[:, 0], Y_sklearn[:, 1],c=prediction ,s=50, cmap='viridis')\n",
    "\n",
    "centers2 = fitted.cluster_centers_\n",
    "plt.scatter(centers2[:, 0], centers2[:, 1],c='black', s=300, alpha=0.6);"
   ]
  },
  {
   "cell_type": "code",
   "execution_count": 84,
   "metadata": {
    "scrolled": true
   },
   "outputs": [],
   "source": [
    "a5=fitted.labels_ "
   ]
  },
  {
   "cell_type": "code",
   "execution_count": 85,
   "metadata": {},
   "outputs": [
    {
     "name": "stdout",
     "output_type": "stream",
     "text": [
      "0.5366984787572655\n"
     ]
    }
   ],
   "source": [
    "#for cluster count 5\n",
    "print(davies_bouldin_score(Y_sklearn, a5)) \n"
   ]
  },
  {
   "cell_type": "code",
   "execution_count": 94,
   "metadata": {
    "scrolled": true
   },
   "outputs": [
    {
     "data": {
      "text/html": [
       "<div>\n",
       "<style scoped>\n",
       "    .dataframe tbody tr th:only-of-type {\n",
       "        vertical-align: middle;\n",
       "    }\n",
       "\n",
       "    .dataframe tbody tr th {\n",
       "        vertical-align: top;\n",
       "    }\n",
       "\n",
       "    .dataframe thead th {\n",
       "        text-align: right;\n",
       "    }\n",
       "</style>\n",
       "<table border=\"1\" class=\"dataframe\">\n",
       "  <thead>\n",
       "    <tr style=\"text-align: right;\">\n",
       "      <th></th>\n",
       "      <th>a2</th>\n",
       "      <th>a3</th>\n",
       "      <th>a4</th>\n",
       "      <th>a5</th>\n",
       "    </tr>\n",
       "  </thead>\n",
       "  <tbody>\n",
       "    <tr>\n",
       "      <th>1</th>\n",
       "      <td>0.14335</td>\n",
       "      <td>0.168985</td>\n",
       "      <td>0.168985</td>\n",
       "      <td>0.536698</td>\n",
       "    </tr>\n",
       "  </tbody>\n",
       "</table>\n",
       "</div>"
      ],
      "text/plain": [
       "        a2        a3        a4        a5\n",
       "1  0.14335  0.168985  0.168985  0.536698"
      ]
     },
     "execution_count": 94,
     "metadata": {},
     "output_type": "execute_result"
    }
   ],
   "source": [
    "#tabulate cluster quality for different cluster counts\n",
    "#davies_bouldin_score foe different clusters low value is more good\n",
    "pd.DataFrame(\n",
    "{\"a2\" : [0.1433498122699349],\n",
    "\"a3\" : [0.1689851884643439],\n",
    "\"a4\" : [0.1689851884643439],\n",
    "\"a5\" : [0.5366984787572655]},\n",
    "index = [1])\n"
   ]
  },
  {
   "cell_type": "code",
   "execution_count": 98,
   "metadata": {
    "_uuid": "4ed2230dbfb8b273b0f85a150f250cf26af3f4e5",
    "scrolled": true
   },
   "outputs": [
    {
     "data": {
      "image/png": "[encoded data removed]",
      "text/plain": [
       "<Figure size 432x288 with 1 Axes>"
      ]
     },
     "metadata": {
      "needs_background": "light"
     },
     "output_type": "display_data"
    }
   ],
   "source": [
    "#using elbow method representing a graph showing best cluster count\n",
    "#optimal cluster count is 3\n",
    "number_clusters = range(1, 7)\n",
    "\n",
    "kmeans = [KMeans(n_clusters=i, max_iter = 600) for i in number_clusters]\n",
    "kmeans\n",
    "\n",
    "score = [kmeans[i].fit(Y_sklearn).score(Y_sklearn) for i in range(len(kmeans))]\n",
    "score = [i*-1 for i in score]\n",
    "\n",
    "plt.plot(number_clusters, score)\n",
    "plt.xlabel('Number of Clusters')\n",
    "plt.ylabel('Score')\n",
    "plt.title('Elbow Method')\n",
    "plt.show()"
   ]
  },
  {
   "cell_type": "code",
   "execution_count": 99,
   "metadata": {
    "_uuid": "3006fc8dcb19e59d277e4604b44f04fb94d535a6"
   },
   "outputs": [],
   "source": [
    "# we are extracting top features from each clusters and sorting them\n",
    "def get_top_features_cluster(tf_idf_array, prediction, n_feats):\n",
    "    labels = np.unique(prediction)\n",
    "    dfs = []\n",
    "    for label in labels:\n",
    "        id_temp = np.where(prediction==label) # indices for each cluster\n",
    "        x_means = np.mean(tf_idf_array[id_temp], axis = 0) # returns average score across cluster\n",
    "        sorted_means = np.argsort(x_means)[::-1][:n_feats] # indices with top 20 scores\n",
    "        features = tf_idf_vectorizor.get_feature_names()\n",
    "        best_features = [(features[i], x_means[i]) for i in sorted_means]\n",
    "        df = pd.DataFrame(best_features, columns = ['features', 'score'])\n",
    "        dfs.append(df)\n",
    "    return dfs\n",
    "dfs = get_top_features_cluster(tf_idf_array, prediction, 20)"
   ]
  },
  {
   "cell_type": "code",
   "execution_count": 100,
   "metadata": {
    "_uuid": "e7a30f21a8faa82bdf870fb857c04afad15df51e"
   },
   "outputs": [
    {
     "data": {
      "text/plain": [
       "<matplotlib.axes._subplots.AxesSubplot at 0x1e543f58668>"
      ]
     },
     "execution_count": 100,
     "metadata": {},
     "output_type": "execute_result"
    },
    {
     "data": {
      "image/png": "[encoded data removed]",
      "text/plain": [
       "<Figure size 576x432 with 1 Axes>"
      ]
     },
     "metadata": {
      "needs_background": "light"
     },
     "output_type": "display_data"
    }
   ],
   "source": [
    "#cluster 1\n",
    "import seaborn as sns\n",
    "plt.figure(figsize=(8,6))\n",
    "sns.barplot(x = 'score' , y = 'features', orient = 'h' , data = dfs[0][:15])"
   ]
  },
  {
   "cell_type": "code",
   "execution_count": 101,
   "metadata": {
    "_uuid": "b0395236ca855fedae890f0157ea471466aa0d5f",
    "scrolled": false
   },
   "outputs": [
    {
     "data": {
      "text/plain": [
       "<matplotlib.axes._subplots.AxesSubplot at 0x1e543dd0ef0>"
      ]
     },
     "execution_count": 101,
     "metadata": {},
     "output_type": "execute_result"
    },
    {
     "data": {
      "image/png": "[encoded data removed]",
      "text/plain": [
       "<Figure size 576x432 with 1 Axes>"
      ]
     },
     "metadata": {
      "needs_background": "light"
     },
     "output_type": "display_data"
    }
   ],
   "source": [
    "#cluster 2\n",
    "plt.figure(figsize=(8,6))\n",
    "sns.barplot(x = 'score' , y = 'features', orient = 'h' , data = dfs[1][:15])"
   ]
  },
  {
   "cell_type": "code",
   "execution_count": 102,
   "metadata": {
    "_uuid": "22745a940f217f01df17afe91cebc06b12cf05c2",
    "scrolled": false
   },
   "outputs": [
    {
     "data": {
      "text/plain": [
       "<matplotlib.axes._subplots.AxesSubplot at 0x1e543f3acc0>"
      ]
     },
     "execution_count": 102,
     "metadata": {},
     "output_type": "execute_result"
    },
    {
     "data": {
      "image/png": "[encoded data removed]",
      "text/plain": [
       "<Figure size 576x432 with 1 Axes>"
      ]
     },
     "metadata": {
      "needs_background": "light"
     },
     "output_type": "display_data"
    }
   ],
   "source": [
    "#cluster 3\n",
    "plt.figure(figsize=(8,6))\n",
    "sns.barplot(x = 'score' , y = 'features', orient = 'h' , data = dfs[2][:15])"
   ]
  }
 ],
 "metadata": {
  "kernelspec": {
   "display_name": "Python 3",
   "language": "python",
   "name": "python3"
  },
  "language_info": {
   "codemirror_mode": {
    "name": "ipython",
    "version": 3
   },
   "file_extension": ".py",
   "mimetype": "text/x-python",
   "name": "python",
   "nbconvert_exporter": "python",
   "pygments_lexer": "ipython3",
   "version": "3.7.3"
  }
 },
 "nbformat": 4,
 "nbformat_minor": 1
}
